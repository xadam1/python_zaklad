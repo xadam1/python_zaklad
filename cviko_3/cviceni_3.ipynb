{
 "cells": [
  {
   "cell_type": "markdown",
   "metadata": {},
   "source": [
    "<style> \n",
    "    code { font-family: Consolas, monospace; font-weight: normal; } \n",
    "    table { width: 100%; }\n",
    "</style>\n",
    "\n",
    "# Nepovinné úkoly\n",
    "\n",
    "## Cvičení 3.1: Je to slovo?\n",
    "\n",
    "### Úkol:\n",
    "\n",
    "Napište kód, který načte řetězec ze standarního vstupu pomocí funkce `input`. Poté rozhodne, jestli načtený řetězec je jedno slovo (tj. skládá se pouze z písmen). Pokud ano, vypíše `True`, v opačném případě `False`. Pro výpis použijte funkci `print`.\n",
    "\n",
    "|                              |                              |                              |\n",
    "|:-----------------------------|:-----------------------------|:-----------------------------|\n",
    "| **Vzorový vstup 1: &emsp;**  | **Vzorový vstup 2: &emsp;**  | **Vzorový vstup 3: &emsp;**  |\n",
    "| `Alohomora`                  | `Wingardium leviosa`         | `9`                          |\n",
    "| **Vzorový výstup 1: &emsp;** | **Vzorový výstup 2: &emsp;** | **Vzorový výstup 3: &emsp;** |\n",
    "| `True`                       | `False`                      | `False`                      |\n",
    "\n",
    "<!--# CODE AREA cviceni_3_1 #-->"
   ]
  },
  {
   "cell_type": "code",
   "execution_count": null,
   "metadata": {
    "tags": []
   },
   "outputs": [],
   "source": [
    "..."
   ]
  },
  {
   "cell_type": "markdown",
   "metadata": {},
   "source": [
    "### Testy: \n",
    "\n",
    "Spusťte následující buňku pro kontrolu řešení. \n",
    "\n",
    "Před spuštěním se ujistěte, že je notebook uložen (v záhlaví VSCode u názvu notebooku se nesmí zobrazovat \\* ani &#8226;).\n",
    "\n",
    "<!--# TEST AREA #-->"
   ]
  },
  {
   "cell_type": "code",
   "execution_count": null,
   "metadata": {
    "tags": []
   },
   "outputs": [],
   "source": [
    "# Tuto buňku neupravujte!  # TEST AREA #\n",
    "import testing\n",
    "testing.run_tests('cviceni_3.ipynb', 'cviceni_3_1')"
   ]
  },
  {
   "source": [
    "## Cvičení 3.2: Násobička\n",
    "\n",
    "### Úkol:\n",
    "\n",
    "Napište kód, který ze standarního vstupu načte dvě celá čísla a na výstup vypíše jejich součin.\n",
    "\n",
    "|                              |                              |\n",
    "|:-----------------------------|:-----------------------------|\n",
    "| **Vzorový vstup 1: &emsp;**  | **Vzorový vstup 2: &emsp;**  |\n",
    "| `2 3`                        | `-111 -6`                    |\n",
    "| **Vzorový výstup 1: &emsp;** | **Vzorový výstup 2: &emsp;** |\n",
    "| `6`                          | `666`                        |\n",
    "\n",
    "<!--# CODE AREA cviceni_3_2 #-->"
   ],
   "cell_type": "markdown",
   "metadata": {}
  },
  {
   "cell_type": "code",
   "execution_count": null,
   "metadata": {},
   "outputs": [],
   "source": [
    "..."
   ]
  },
  {
   "source": [
    "### Testy: \n",
    "<!--# TEST AREA #-->"
   ],
   "cell_type": "markdown",
   "metadata": {}
  },
  {
   "cell_type": "code",
   "execution_count": null,
   "metadata": {},
   "outputs": [],
   "source": [
    "# Tuto buňku neupravujte!  # TEST AREA #\n",
    "import testing\n",
    "testing.run_tests('cviceni_3.ipynb', 'cviceni_3_2')"
   ]
  },
  {
   "source": [
    "## Cvičení 3.3: Palindrom?\n",
    "\n",
    "Palindrom je slovo nebo věta, která má stejné pořadí písmen zprava doleva a zleva doprava. Nezáleží při tom na velikosti písmen a na výskytu mezer.\n",
    "\n",
    "### Úkol:\n",
    "\n",
    "Ze vstupu načtěte řetězec a rozhodněte, zda je to palindrom. (Můžete spoléhat, že vstup nebude obsahovat jiné znaky kromě písmen a mezer.)\n",
    "\n",
    "|                              |                              |                              |\n",
    "|:-----------------------------|:-----------------------------|:-----------------------------|\n",
    "| **Vzorový vstup 1: &emsp;**  | **Vzorový vstup 2: &emsp;**  | **Vzorový vstup 3: &emsp;**  |\n",
    "| `Jelenovi pivo nelej`        | `Jelen chce pivo`            | `Anna`                       |\n",
    "| **Vzorový výstup 1: &emsp;** | **Vzorový výstup 2: &emsp;** | **Vzorový výstup 3: &emsp;** |\n",
    "| `True`                       | `False`                      | `True`                       |\n",
    "\n",
    "<!--# CODE AREA cviceni_3_3 #-->"
   ],
   "cell_type": "markdown",
   "metadata": {}
  },
  {
   "cell_type": "code",
   "execution_count": null,
   "metadata": {},
   "outputs": [],
   "source": [
    "..."
   ]
  },
  {
   "source": [
    "### Testy: \n",
    "<!--# TEST AREA #-->"
   ],
   "cell_type": "markdown",
   "metadata": {}
  },
  {
   "cell_type": "code",
   "execution_count": null,
   "metadata": {},
   "outputs": [],
   "source": [
    "# Tuto buňku neupravujte!  # TEST AREA #\n",
    "import testing\n",
    "testing.run_tests('cviceni_3.ipynb', 'cviceni_3_3')"
   ]
  },
  {
   "source": [
    "## Cvičení 3.4: Zvýrazňovač\n",
    "\n",
    "### Úkol:\n",
    "\n",
    "Na vstupu bude zadáno jedno slovo, mezera, a pak celá věta. Vypište tuto větu na výstup, s tím, že každý výskyt zadaného slova bude vypsán velkými písmeny.\n",
    "\n",
    "|                                    |                                  |\n",
    "|:-----------------------------------|:---------------------------------|\n",
    "| **Vzorový vstup 1: &emsp;**        | **Vzorový vstup 2: &emsp;**      |\n",
    "| `oko Mám oko špinavé od čokolády.` | `jelen Pivo jelenům nenaléváme!` |\n",
    "| **Vzorový výstup 1: &emsp;**       | **Vzorový výstup 2: &emsp;**     |\n",
    "| `Mám OKO špinavé od čOKOlády.`     | `Pivo JELENům nenaléváme!`       |\n",
    "\n",
    "<!--# CODE AREA cviceni_3_4 #-->"
   ],
   "cell_type": "markdown",
   "metadata": {}
  },
  {
   "cell_type": "code",
   "execution_count": null,
   "metadata": {},
   "outputs": [],
   "source": [
    "..."
   ]
  },
  {
   "source": [
    "### Testy: \n",
    "<!--# TEST AREA #-->"
   ],
   "cell_type": "markdown",
   "metadata": {}
  },
  {
   "cell_type": "code",
   "execution_count": null,
   "metadata": {},
   "outputs": [],
   "source": [
    "# Tuto buňku neupravujte!  # TEST AREA #\n",
    "import testing\n",
    "testing.run_tests('cviceni_3.ipynb', 'cviceni_3_4')"
   ]
  }
 ],
 "metadata": {
  "title": "C2184 Úvod do programování v Pythonu (podzim 2020)",
  "kernelspec": {
   "display_name": "Python 3",
   "language": "python",
   "name": "python3"
  },
  "language_info": {
   "codemirror_mode": {
    "name": "ipython",
    "version": 3
   },
   "file_extension": ".py",
   "mimetype": "text/x-python",
   "name": "python",
   "nbconvert_exporter": "python",
   "pygments_lexer": "ipython3",
   "version": "3.8.5-final"
  }
 },
 "nbformat": 4,
 "nbformat_minor": 2
}