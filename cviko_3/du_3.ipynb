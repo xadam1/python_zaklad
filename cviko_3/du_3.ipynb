{
 "cells": [
  {
   "cell_type": "markdown",
   "metadata": {},
   "source": [
    "<style> \n",
    "    code { font-family: Consolas, monospace; font-weight: normal; } \n",
    "    table { width: 100%; }\n",
    "</style>\n",
    "\n",
    "# Povinné domácí úkoly\n",
    "\n",
    "## DÚ 3.1: Vědecký formát\n",
    "\n",
    "### Úkol:\n",
    "\n",
    "Napište kód, který se standardního vstupu načte číslo a vypíše ho na výstup ve vědeckém formátu se dvěma desetinnými místy.\n",
    "\n",
    "#### Vzorový vstup:\n",
    "`40800000000.00000000000000`\n",
    "\n",
    "#### Vzorový výstup:\n",
    "`4.08E+10`\n",
    "\n",
    "<!--# CODE AREA du_3_1 #-->"
   ]
  },
  {
   "cell_type": "code",
   "execution_count": null,
   "metadata": {
    "tags": []
   },
   "outputs": [],
   "source": [
    "..."
   ]
  },
  {
   "cell_type": "markdown",
   "metadata": {},
   "source": [
    "### Testy: \n",
    "\n",
    "Spusťte následující buňku pro kontrolu řešení. \n",
    "\n",
    "Před spuštěním se ujistěte, že je notebook uložen (v záhlaví VSCode u názvu notebooku se nesmí zobrazovat \\* ani &#8226;).\n",
    "\n",
    "<!--# TEST AREA #-->"
   ]
  },
  {
   "cell_type": "code",
   "execution_count": null,
   "metadata": {
    "tags": []
   },
   "outputs": [],
   "source": [
    "# Tuto buňku neupravujte!  # TEST AREA #\n",
    "import testing\n",
    "testing.run_tests('du_3.ipynb', 'du_3_1')"
   ]
  },
  {
   "source": [
    "## DÚ 3.2: Hledáme mezeru\n",
    "\n",
    "### Úkol:\n",
    "\n",
    "Ze standarního vstupu načtěte řetězec. Vypište první pozici mezery v tomto řetězci a tři znaky, které za ní následují. (Můžete předpokládat, že zadaný řetězec bude vždy obsahovat aspoň jednu mezeru.)\n",
    "\n",
    "\n",
    "#### Vzorový vstup:\n",
    "`Zítra bude krásné počasí.`\n",
    "\n",
    "#### Vzorový výstup:\n",
    "`5 bud`\n",
    "\n",
    "<!--# CODE AREA du_3_2 #-->"
   ],
   "cell_type": "markdown",
   "metadata": {}
  },
  {
   "cell_type": "code",
   "execution_count": null,
   "metadata": {},
   "outputs": [],
   "source": [
    "inputString = input()\n",
    "counter = 0\n",
    "\n",
    "for char in inputString:\n",
    "    if char == ' ':\n",
    "        print(f\"{counter} {inputString[counter:counter+3]}\")\n",
    "        exit(0)\n",
    "    else:\n",
    "        counter += 1"
   ]
  },
  {
   "source": [
    "### Testy: \n",
    "<!--# TEST AREA #-->"
   ],
   "cell_type": "markdown",
   "metadata": {}
  },
  {
   "cell_type": "code",
   "execution_count": null,
   "metadata": {},
   "outputs": [],
   "source": [
    "# Tuto buňku neupravujte!  # TEST AREA #\n",
    "import testing\n",
    "testing.run_tests('du_3.ipynb', 'du_3_2')"
   ]
  },
  {
   "source": [
    "## DÚ 3.3: Generátor výmluv\n",
    "\n",
    "### Úkol:\n",
    "\n",
    "Ze standarního vstupu načtěte dva řádky. Z nich vygenerujte výmluvu a vypište (viz vzorový výstup).\n",
    "\n",
    "|                                                              |                                                                    |\n",
    "|:-------------------------------------------------------------|:-------------------------------------------------------------------|\n",
    "| **Vzorový vstup 1: &emsp;**                                  | **Vzorový vstup 2: &emsp;**                                        |\n",
    "| `umýt nádobí`                                                | `dělat úkol z Pythonu`                                             |\n",
    "| `musím chytat Pokémony`                                      | `venku je moc hezky`                                               |\n",
    "| **Vzorový výstup 1: &emsp;**                                 | **Vzorový výstup 2: &emsp;**                                       |\n",
    "| `Bohužel nemůžu umýt nádobí, protože musím chytat Pokémony.` | `Bohužel nemůžu dělat úkol z Pythonu, protože venku je moc hezky.` |\n",
    "\n",
    "<!--# CODE AREA du_3_3 #-->"
   ],
   "cell_type": "markdown",
   "metadata": {}
  },
  {
   "cell_type": "code",
   "execution_count": null,
   "metadata": {},
   "outputs": [],
   "source": [
    "..."
   ]
  },
  {
   "source": [
    "### Testy: \n",
    "<!--# TEST AREA #-->"
   ],
   "cell_type": "markdown",
   "metadata": {}
  },
  {
   "cell_type": "code",
   "execution_count": null,
   "metadata": {},
   "outputs": [],
   "source": [
    "# Tuto buňku neupravujte!  # TEST AREA #\n",
    "import testing\n",
    "testing.run_tests('du_3.ipynb', 'du_3_3')"
   ]
  },
  {
   "source": [
    "## DÚ 3.4: DNA\n",
    "\n",
    "Sekvence DNA se skládá ze čtyř typů nukleových bazí (A, C, G, T). Absolutní četnost báze vyjádřuje, kolikrát se vyskytuje daná báze v sekvenci.\n",
    "\n",
    "### Úkol:\n",
    "\n",
    "Ze standardního vstupu načtěte sekvenci DNA. Na výstup vypište absolutní četnosti jednotlivých bazí. \n",
    "\n",
    "|                              |                              |\n",
    "|:-----------------------------|:-----------------------------|\n",
    "| **Vzorový vstup 1: &emsp;**  | **Vzorový vstup 2: &emsp;**  |\n",
    "| `ACGTTTTGAG`                 | `AAAACCCCTTTTTTTTTT`         |\n",
    "| **Vzorový výstup 1: &emsp;** | **Vzorový výstup 2: &emsp;** |\n",
    "| `A: 2`                       | `A: 4`                       |\n",
    "| `C: 1`                       | `C: 4`                       |\n",
    "| `G: 3`                       | `G: 0`                       |\n",
    "| `T: 4`                       | `T: 10`                      |\n",
    "\n",
    "<!--# CODE AREA du_3_4 #-->"
   ],
   "cell_type": "markdown",
   "metadata": {}
  },
  {
   "cell_type": "code",
   "execution_count": null,
   "metadata": {},
   "outputs": [],
   "source": [
    "..."
   ]
  },
  {
   "source": [
    "### Testy: \n",
    "<!--# TEST AREA #-->"
   ],
   "cell_type": "markdown",
   "metadata": {}
  },
  {
   "cell_type": "code",
   "execution_count": null,
   "metadata": {},
   "outputs": [],
   "source": [
    "# Tuto buňku neupravujte!  # TEST AREA #\n",
    "import testing\n",
    "testing.run_tests('du_3.ipynb', 'du_3_4')"
   ]
  },
  {
   "source": [
    "## DÚ 3.5: DNA podruhé\n",
    "\n",
    "Relativní četnost báze vyjádřuje, jaká část sekvence (kolik procent) je tvořena daným typem báze.\n",
    "\n",
    "### Úkol:\n",
    "\n",
    "Ze standardního vstupu načtěte sekvenci DNA. Na výstup vypište relativní četnosti jednotlivých bazí v procentech. Zaokrouhlujte na celá procenta.\n",
    "\n",
    "|                              |                              |\n",
    "|:-----------------------------|:-----------------------------|\n",
    "| **Vzorový vstup 1: &emsp;**  | **Vzorový vstup 2: &emsp;**  |\n",
    "| `ACGTTTTGAG`                 | `AAAACCCCTTTTTTTTTT`         |\n",
    "| **Vzorový výstup 1: &emsp;** | **Vzorový výstup 2: &emsp;** |\n",
    "| `A: 20 %`                    | `A: 22 %`                    |\n",
    "| `C: 10 %`                    | `C: 22 %`                    |\n",
    "| `G: 30 %`                    | `G: 0 %`                     |\n",
    "| `T: 40 %`                    | `T: 56 %`                    |\n",
    "\n",
    "<!--# CODE AREA du_3_5 #-->"
   ],
   "cell_type": "markdown",
   "metadata": {}
  },
  {
   "cell_type": "code",
   "execution_count": null,
   "metadata": {},
   "outputs": [],
   "source": [
    "..."
   ]
  },
  {
   "source": [
    "### Testy: \n",
    "<!--# TEST AREA #-->"
   ],
   "cell_type": "markdown",
   "metadata": {}
  },
  {
   "cell_type": "code",
   "execution_count": null,
   "metadata": {},
   "outputs": [],
   "source": [
    "# Tuto buňku neupravujte!  # TEST AREA #\n",
    "import testing\n",
    "testing.run_tests('du_3.ipynb', 'du_3_5')"
   ]
  }
 ],
 "metadata": {
  "title": "C2184 Úvod do programování v Pythonu (podzim 2020)",
  "kernelspec": {
   "display_name": "Python 3",
   "language": "python",
   "name": "python3"
  },
  "language_info": {
   "codemirror_mode": {
    "name": "ipython",
    "version": 3
   },
   "file_extension": ".py",
   "mimetype": "text/x-python",
   "name": "python",
   "nbconvert_exporter": "python",
   "pygments_lexer": "ipython3",
   "version": "3.8.5-final"
  }
 },
 "nbformat": 4,
 "nbformat_minor": 2
}