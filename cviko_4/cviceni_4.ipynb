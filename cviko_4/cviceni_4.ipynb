{
 "cells": [
  {
   "cell_type": "markdown",
   "metadata": {},
   "source": [
    "<style> \n",
    "    code { font-family: Consolas, monospace; font-weight: normal; } \n",
    "    table { width: 100%; }\n",
    "</style>\n",
    "\n",
    "# Nepovinné úkoly\n",
    "\n",
    "## Cvičení 4.1: Kvadratická rovnice\n",
    "\n",
    "V této ukázce si napíšeme program pro řešení kvadratické rovnice.\n",
    "Obecně máme kvadratickou rovnici definovanou takto:\n",
    "\n",
    "$$ a x^2 + bx + c = 0 $$\n",
    "\n",
    "Kvadratická rovnice může mít v oboru reálných čísel dva, jeden nebo žádné kořeny. Počet kořenů můžeme určit podle hodnoty diskriminantu $D$:\n",
    "\n",
    "$$ D = b^2 - 4ac $$\n",
    "\n",
    "Pokud je $D$ kladné, rovnice má dva kořeny $x_1$, $x_2$. Ty spočítáme podle vzorců:\n",
    "\n",
    "$$ x_1 = \\frac{-b - \\sqrt{D}}{2a}​ \\qquad x_2 = \\frac{-b + \\sqrt{D}}{2a}​ $$\n",
    "\n",
    "Když je $D$ rovno nule, rovnice má pouze jeden kořen $x$, který je:\n",
    "\n",
    "$$ x = \\frac{-b}{2a}​ $$\n",
    "\n",
    "Když je $D$ záporné, rovnice nemá žádné kořeny.\n",
    "​\t\n",
    "\n",
    "### Úkol:\n",
    "\n",
    "Ze vstupu načtěte koeficienty kvadratické rovnice $a$, $b$, $c$. Rovnici vyřešte a její kořeny vypište na výstup.\n",
    "\n",
    "Vypisujte s přesností na dvě desetinná místa. Když budou kořeny dva, vypište menší, pak větší. Když nebude žádný kořen, vypište `Rovnice nemá řešení`\n",
    "\n",
    "\n",
    "|                              |                              |                              |\n",
    "|:-----------------------------|:-----------------------------|:-----------------------------|\n",
    "| **Vzorový vstup 1: &emsp;**  | **Vzorový vstup 2: &emsp;**  | **Vzorový vstup 3: &emsp;**  |\n",
    "| `1 -5 6`                     | `2.25 15.0 25.0`             | `1 2 2`                      |\n",
    "| **Vzorový výstup 1: &emsp;** | **Vzorový výstup 2: &emsp;** | **Vzorový výstup 3: &emsp;** |\n",
    "| `2.00 3.00`                  | `-3.33`                      | `Rovnice nemá řešení`        |\n",
    "\n",
    "<!--# CODE AREA cviceni_4_1 #-->"
   ]
  },
  {
   "cell_type": "code",
   "execution_count": null,
   "metadata": {},
   "outputs": [],
   "source": [
    "..."
   ]
  },
  {
   "cell_type": "markdown",
   "metadata": {},
   "source": [
    "### Testy: \n",
    "\n",
    "Spusťte následující buňku pro kontrolu řešení. \n",
    "\n",
    "Před spuštěním se ujistěte, že je notebook uložen (v záhlaví VSCode u názvu notebooku se nesmí zobrazovat \\* ani &#8226;).\n",
    "\n",
    "<!--# TEST AREA #-->"
   ]
  },
  {
   "cell_type": "code",
   "execution_count": null,
   "metadata": {
    "tags": []
   },
   "outputs": [],
   "source": [
    "# Tuto buňku neupravujte!  # TEST AREA #\n",
    "import testing\n",
    "testing.run_tests('cviceni_4.ipynb', 'cviceni_4_1')"
   ]
  },
  {
   "source": [
    "## Cvičení 4.2: Testování čísel\n",
    "\n",
    "### Úkol:\n",
    "Ze vstupu načtěte celé číslo.\n",
    "\n",
    "1. Otestujte, jestli jsme dostali číslo z intervalu 0–100 (včetně)\n",
    "\n",
    "2. Pokud ano, otestujte, jestli je číslo dělitelné pěti, třemi nebo oběma čísly zároveň\n",
    "\n",
    "Na výstup vypište nejvhodnější z těchto hlášek:\n",
    "\n",
    "- `špatné číslo` (pokud je mimo intervalu 0 až 100)\n",
    "\n",
    "- `číslo dělitelné 3 a 5`\n",
    "\n",
    "- `číslo dělitelné pouze 3`\n",
    "\n",
    "- `číslo dělitelné pouze 5`\n",
    "\n",
    "- `číslo nedělitelné 3 ani 5`\n",
    "\n",
    "|                              |                              |\n",
    "|:-----------------------------|:-----------------------------|\n",
    "| **Vzorový vstup 1: &emsp;**  | **Vzorový vstup 2: &emsp;**  |\n",
    "| `100`                        | `101`                        |\n",
    "| **Vzorový výstup 1: &emsp;** | **Vzorový výstup 2: &emsp;** |\n",
    "| `číslo dělitelné pouze 5`    | `špatné číslo`                        |\n",
    "\n",
    "<!--# CODE AREA cviceni_4_2 #-->"
   ],
   "cell_type": "markdown",
   "metadata": {}
  },
  {
   "cell_type": "code",
   "execution_count": null,
   "metadata": {},
   "outputs": [],
   "source": [
    "..."
   ]
  },
  {
   "source": [
    "### Testy: \n",
    "<!--# TEST AREA #-->"
   ],
   "cell_type": "markdown",
   "metadata": {}
  },
  {
   "cell_type": "code",
   "execution_count": null,
   "metadata": {},
   "outputs": [],
   "source": [
    "# Tuto buňku neupravujte!  # TEST AREA #\n",
    "import testing\n",
    "testing.run_tests('cviceni_4.ipynb', 'cviceni_4_2')"
   ]
  },
  {
   "source": [
    "## Cvičení 4.3: Sčítačka\n",
    "\n",
    "### Úkol:\n",
    "\n",
    "Vytvořte program, který bude od uživatele načítat reálná čísla, vždy jedno číslo na každém řádku. Když pak uživatel zadá místo čísla znak `=`, vypíše se součet dosud zadaných čísel a program skončí. Součet vypisujte na 2 desetinná místa.\n",
    "\n",
    "|                              |                              |                              |\n",
    "|:-----------------------------|:-----------------------------|:-----------------------------|\n",
    "| **Vzorový vstup 1: &emsp;**  | **Vzorový vstup 2: &emsp;**  | **Vzorový vstup 3: &emsp;**  |\n",
    "| `5`                          | `-1.12`                      | `=`                          |\n",
    "| `1.2`                        | `=`                          |                              |\n",
    "| `0.5`                        |                              |                              |\n",
    "| `=`                          |                              |                              |\n",
    "| **Vzorový výstup 1: &emsp;** | **Vzorový výstup 2: &emsp;** | **Vzorový výstup 3: &emsp;** |\n",
    "| `6.70`                       | `-1.12`                      | `0.00`                       |\n",
    "\n",
    "<!--# CODE AREA cviceni_4_3 #-->"
   ],
   "cell_type": "markdown",
   "metadata": {}
  },
  {
   "cell_type": "code",
   "execution_count": null,
   "metadata": {},
   "outputs": [],
   "source": [
    "..."
   ]
  },
  {
   "source": [
    "### Testy: \n",
    "<!--# TEST AREA #-->"
   ],
   "cell_type": "markdown",
   "metadata": {}
  },
  {
   "cell_type": "code",
   "execution_count": null,
   "metadata": {},
   "outputs": [],
   "source": [
    "# Tuto buňku neupravujte!  # TEST AREA #\n",
    "import testing\n",
    "testing.run_tests('cviceni_4.ipynb', 'cviceni_4_3')"
   ]
  },
  {
   "source": [
    "## Cvičení 4.4: Pyramida\n",
    "\n",
    "### Úkol:\n",
    "\n",
    "Napište kód, který načte ze vstupu přirozené číslo *n* a znak *z* a vykreslí na výstup *n*-patrovou pyramidu složenou ze znaku *z*.\n",
    "\n",
    "(Volný prostor zleva pyramidy je vyplněn mezerami, pouze před posledním řádkem není žádná mezera. Zprava mezery nemusí být.)\n",
    "\n",
    "**Vzorový vstup 1:**\n",
    "```\n",
    "3 i\n",
    "```\n",
    "\n",
    "**Vzorový výstup 1:**\n",
    "```\n",
    "  i\n",
    " iii\n",
    "iiiii\n",
    "```\n",
    "\n",
    "**Vzorový vstup 2:**\n",
    "```\n",
    "5 *\n",
    "```\n",
    "\n",
    "**Vzorový výstup 2:**\n",
    "```\n",
    "    *\n",
    "   ***\n",
    "  *****\n",
    " *******\n",
    "*********\n",
    "```\n",
    "\n",
    "<!--# CODE AREA cviceni_4_4 #-->"
   ],
   "cell_type": "markdown",
   "metadata": {}
  },
  {
   "cell_type": "code",
   "execution_count": null,
   "metadata": {
    "tags": []
   },
   "outputs": [],
   "source": [
    "..."
   ]
  },
  {
   "source": [
    "### Testy: \n",
    "<!--# TEST AREA #-->"
   ],
   "cell_type": "markdown",
   "metadata": {}
  },
  {
   "cell_type": "code",
   "execution_count": null,
   "metadata": {},
   "outputs": [],
   "source": [
    "# Tuto buňku neupravujte!  # TEST AREA #\n",
    "import testing\n",
    "testing.run_tests('cviceni_4.ipynb', 'cviceni_4_4')"
   ]
  },
  {
   "source": [
    "## Cvičení 4.5: Výpočet mocniny pomocí cyklu\n",
    "\n",
    "Umocňování čísla $z$ na exponent $e$ lze rozepsat pomocí násobení: $z^e = z \\cdot z \\cdot z \\cdot \\ ...$, kde počet zetek je roven $e$.\n",
    "\n",
    "### Úkol:\n",
    "\n",
    "Ze vstupu získejte dvě přirozená čísla $z$, $e$. Spočítejte a vypište mocninu $z^e$.\n",
    "\n",
    "Úlohu řešte pomocí cyklu, bez použití operátoru `**` nebo funkce `pow`.\n",
    "\n",
    "|                                    |                                  |\n",
    "|:-----------------------------------|:---------------------------------|\n",
    "| **Vzorový vstup 1: &emsp;**        | **Vzorový vstup 2: &emsp;**      |\n",
    "| `2 3`                              | `3 10`                           |\n",
    "| **Vzorový výstup 1: &emsp;**       | **Vzorový výstup 2: &emsp;**     |\n",
    "| `8`                                | `59049`                          |\n",
    "\n",
    "<!--# CODE AREA cviceni_4_5 #-->"
   ],
   "cell_type": "markdown",
   "metadata": {}
  },
  {
   "cell_type": "code",
   "execution_count": null,
   "metadata": {},
   "outputs": [],
   "source": [
    "..."
   ]
  },
  {
   "source": [
    "### Testy: \n",
    "<!--# TEST AREA #-->"
   ],
   "cell_type": "markdown",
   "metadata": {}
  },
  {
   "cell_type": "code",
   "execution_count": null,
   "metadata": {},
   "outputs": [],
   "source": [
    "# Tuto buňku neupravujte!  # TEST AREA #\n",
    "import testing\n",
    "testing.run_tests('cviceni_4.ipynb', 'cviceni_4_5')"
   ]
  }
 ],
 "metadata": {
  "title": "C2184 Úvod do programování v Pythonu (podzim 2020)",
  "kernelspec": {
   "display_name": "Python 3",
   "language": "python",
   "name": "python3"
  },
  "language_info": {
   "codemirror_mode": {
    "name": "ipython",
    "version": 3
   },
   "file_extension": ".py",
   "mimetype": "text/x-python",
   "name": "python",
   "nbconvert_exporter": "python",
   "pygments_lexer": "ipython3",
   "version": "3.8.5-final"
  }
 },
 "nbformat": 4,
 "nbformat_minor": 2
}