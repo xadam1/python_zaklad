{
 "cells": [
  {
   "cell_type": "markdown",
   "metadata": {},
   "source": [
    "<style> \n",
    "    code { font-family: Consolas, monospace; font-weight: normal; } \n",
    "    table { width: 100%; }\n",
    "</style>\n",
    "\n",
    "# Povinné domácí úkoly\n",
    "\n",
    "## DÚ 4.1: Začíná, končí nebo obsahuje?\n",
    "\n",
    "### Úkol:\n",
    "\n",
    "Na vstupu získáte dva řetezce oddělené mezerou. Otestujte jestli první řetězec začíná, končí nebo aspoň obsahuje druhý řetězec. Možné výstupy:\n",
    "\n",
    "- `'…' začíná a končí '…'`\n",
    "\n",
    "- `'…' začíná '…'`\n",
    "\n",
    "- `'…' končí '…'`\n",
    "\n",
    "- `'…' obsahuje '…'`\n",
    "\n",
    "- `'…' neobsahuje '…'`\n",
    "\n",
    "(Místo `…` doplňte první a druhý řetězec.)\n",
    "\n",
    "#### Vzorový vstup:\n",
    "`alobal al`\n",
    "\n",
    "#### Vzorový výstup:\n",
    "`'alobal' začíná a končí 'al'`\n",
    "\n",
    "Vyzkoušejte také tyto vstupy:\n",
    "\n",
    "```\n",
    "bussiness bus\n",
    "autobus bus\n",
    "alobal oba\n",
    "alobal bus\n",
    "```\n",
    "\n",
    "<!--# CODE AREA du_4_1 #-->"
   ]
  },
  {
   "cell_type": "code",
   "execution_count": 8,
   "metadata": {
    "tags": []
   },
   "outputs": [
    {
     "output_type": "stream",
     "name": "stdout",
     "text": [
      "'autobus' končí na 'bus'\n"
     ]
    }
   ],
   "source": [
    "string = input().split()\n",
    "word = string[0]\n",
    "part = string[1]\n",
    "\n",
    "if word.startswith(part):\n",
    "    if word.endswith(part):\n",
    "        print(f\"'{word}' začíná a končí '{part}'\")\n",
    "    else:\n",
    "        print(f\"'{word}' začíná '{part}'\")\n",
    "elif word.endswith(part):\n",
    "    print(f\"'{word}' končí '{part}'\")\n",
    "elif part in word:\n",
    "    print(f\"'{word}' obsahuje '{part}'\")\n",
    "else:\n",
    "    print(f\"'{word}' neobsahuje '{part}'\")\n"
   ]
  },
  {
   "cell_type": "markdown",
   "metadata": {},
   "source": [
    "### Testy: \n",
    "\n",
    "Spusťte následující buňku pro kontrolu řešení. \n",
    "\n",
    "Před spuštěním se ujistěte, že je notebook uložen (v záhlaví VSCode u názvu notebooku se nesmí zobrazovat \\* ani &#8226;).\n",
    "\n",
    "<!--# TEST AREA #-->"
   ]
  },
  {
   "cell_type": "code",
   "execution_count": 31,
   "metadata": {
    "tags": []
   },
   "outputs": [
    {
     "output_type": "stream",
     "name": "stdout",
     "text": [
      "Tests passed :)\n"
     ]
    }
   ],
   "source": [
    "# Tuto buňku neupravujte!  # TEST AREA #\n",
    "import testing\n",
    "testing.run_tests('du_4.ipynb', 'du_4_1')"
   ]
  },
  {
   "source": [
    "## DÚ 4.2: Kalkulačka\n",
    "\n",
    "### Úkol:\n",
    "\n",
    "Na vstupu získate dvě desetinná čísla oddělená matematickým operátorem (před a za operátorem bude vždycky mezera). Proveďte výpočet a vypište výsledek zaokrouhlený na 2 desetinná místa.\n",
    "\n",
    "Možné operace:\n",
    "\n",
    "- sčítání `+`\n",
    "- odečítání `-`\n",
    "- násobení `*`\n",
    "- dělení `/`\n",
    "\n",
    "Pokud bude zadaný jiný operátor, vypište na výstup `ERROR`.\n",
    "\n",
    "#### Vzorový vstup:\n",
    "`1 + 2.5`\n",
    "\n",
    "#### Vzorový výstup:\n",
    "`3.50`\n",
    "\n",
    "Vyzkoušejte také:\n",
    "\n",
    "```\n",
    "3 - 4\n",
    "5 * 6\n",
    "7 / 8\n",
    "9 & 10 \n",
    "```\n",
    "\n",
    "<!--# CODE AREA du_4_2 #-->"
   ],
   "cell_type": "markdown",
   "metadata": {}
  },
  {
   "cell_type": "code",
   "execution_count": 13,
   "metadata": {},
   "outputs": [
    {
     "output_type": "stream",
     "name": "stdout",
     "text": [
      "3.50\n"
     ]
    }
   ],
   "source": [
    "commands = input().split()\n",
    "\n",
    "operator = commands[1]\n",
    "a = float(commands[0])\n",
    "b = float(commands[2])\n",
    "\n",
    "if operator == '+':\n",
    "    print(\"{0:.2f}\".format(a+b))\n",
    "\n",
    "elif operator == '-':\n",
    "    print(\"{0:.2f}\".format(a-b))\n",
    "\n",
    "elif operator == '*':\n",
    "    print(\"{0:.2f}\".format(a*b))\n",
    "\n",
    "elif operator == '/':\n",
    "    print(\"{0:.2f}\".format(a/b))\n",
    "else:\n",
    "    print('ERROR')"
   ]
  },
  {
   "source": [
    "### Testy: \n",
    "<!--# TEST AREA #-->"
   ],
   "cell_type": "markdown",
   "metadata": {}
  },
  {
   "cell_type": "code",
   "execution_count": 30,
   "metadata": {},
   "outputs": [
    {
     "output_type": "stream",
     "name": "stdout",
     "text": [
      "Tests passed :)\n"
     ]
    }
   ],
   "source": [
    "# Tuto buňku neupravujte!  # TEST AREA #\n",
    "import testing\n",
    "testing.run_tests('du_4.ipynb', 'du_4_2')"
   ]
  },
  {
   "source": [
    "## DÚ 4.3: Caesarova šifra\n",
    "\n",
    "Caesarova šifra spočívá v posunu každého písmena o pevný počet pozic v abecedě. Tento počet se nazývá *klíč*. \n",
    "\n",
    "Například je-li klíč 2, pak posouváme o 2 pozice doprava a písmeno `B` se změní na `D`. Zpráva `Hello World` se zašifruje na `Jgnnq Yqtnf`. Když chceme zprávu rozšifrovat, musíme ji posunout o stejný počet pozic zpátky doleva.\n",
    "\n",
    "Záporný klíč znamená posun opačným směrem, tj. zašifrování doleva, rozšifrování doprava.\n",
    "\n",
    "### Úkol:\n",
    "\n",
    "Na vstupu získate klíč a zašifrovanou zprávu (mezi nimi znak `#`). Zprávu rozšifrujte a vypište. \n",
    "\n",
    "Mezery mezi písmeny nechte beze změny. Ke kódování používáme standardní anglickou abecedu, která má pořadí stejné jako znakové sady ASCII nebo Unicode. Nemusíte řešit přetečení (tj. že například znak Z by se posunul zpátky na začátek abecedy na B).\n",
    "\n",
    "Nápověda: \n",
    "Použijte funkce `chr` a `ord`.\n",
    "Při výpisu můžete využít funkci `print` s parametrem `end=''` (nezalamuje výstup na nové řádky).\n",
    "\n",
    "|                                 |                                   |\n",
    "|:--------------------------------|:----------------------------------|\n",
    "| **Vzorový vstup 1: &emsp;**     | **Vzorový vstup 2: &emsp;**       |\n",
    "| `5#Rfrf rjqj rfxt`              | `-3#Sbkhr gb sbqokl`              |\n",
    "| **Vzorový výstup 1: &emsp;**    | **Vzorový výstup 2: &emsp;**      |\n",
    "| `Mama mele maso`                | `Venku je vetrno`                 |\n",
    "\n",
    "<!--# CODE AREA du_4_3 #-->"
   ],
   "cell_type": "markdown",
   "metadata": {}
  },
  {
   "cell_type": "code",
   "execution_count": 32,
   "metadata": {},
   "outputs": [
    {
     "output_type": "stream",
     "name": "stdout",
     "text": [
      "Venku je vetrno "
     ]
    }
   ],
   "source": [
    "LeChiffre = input().split('#')\n",
    "key = int(LeChiffre[0])\n",
    "text = LeChiffre[1]\n",
    "\n",
    "words = text.split()\n",
    "for word in words:\n",
    "    for char in word:\n",
    "        print(chr(ord(char) - key), end='')\n",
    "    print(' ', end='')"
   ]
  },
  {
   "source": [
    "### Testy: \n",
    "<!--# TEST AREA #-->"
   ],
   "cell_type": "markdown",
   "metadata": {}
  },
  {
   "cell_type": "code",
   "execution_count": 29,
   "metadata": {},
   "outputs": [
    {
     "output_type": "stream",
     "name": "stdout",
     "text": [
      "Tests passed :)\n"
     ]
    }
   ],
   "source": [
    "# Tuto buňku neupravujte!  # TEST AREA #\n",
    "import testing\n",
    "testing.run_tests('du_4.ipynb', 'du_4_3')"
   ]
  },
  {
   "source": [
    "## DÚ 4.4: Záplava čísel\n",
    "\n",
    "### Úkol:\n",
    "\n",
    "Ze vstupu načtěte řetězec obsahující pouze číslice. Vypište na výstup řetězec, který bude obsahovat každou číslici ze vstupu tolik krát, kolik je hodnota číslice (tj. dvě dvojky, pět pětek...).\n",
    "\n",
    "**Vzorový vstup 1:** \n",
    "\n",
    "`25104`                     \n",
    "\n",
    "**Vzorový výstup 1:**\n",
    "\n",
    "`225555514444`              \n",
    "\n",
    "<!--# CODE AREA du_4_4 #-->"
   ],
   "cell_type": "markdown",
   "metadata": {}
  },
  {
   "cell_type": "code",
   "execution_count": 23,
   "metadata": {},
   "outputs": [],
   "source": [
    "numbers = input()\n",
    "\n",
    "for num in numbers:\n",
    "    print(num * int(num),end='')\n"
   ]
  },
  {
   "source": [
    "### Testy: \n",
    "<!--# TEST AREA #-->"
   ],
   "cell_type": "markdown",
   "metadata": {}
  },
  {
   "cell_type": "code",
   "execution_count": 28,
   "metadata": {},
   "outputs": [
    {
     "output_type": "stream",
     "name": "stdout",
     "text": [
      "Tests passed :)\n"
     ]
    }
   ],
   "source": [
    "# Tuto buňku neupravujte!  # TEST AREA #\n",
    "import testing\n",
    "testing.run_tests('du_4.ipynb', 'du_4_4')"
   ]
  },
  {
   "source": [
    "## DÚ 4.5: Půlení\n",
    "\n",
    "### Úkol:\n",
    "\n",
    "Ze vstupu načtěte přirozené číslo. Zjistěte kolikrát po sobě lze toto číslo dělit dvěma (např. 80 -> 40 -> 20 -> 10 -> 5, odpověď je 4krát).\n",
    "\n",
    "|                              |                              |\n",
    "|:-----------------------------|:-----------------------------|\n",
    "| **Vzorový vstup 1: &emsp;**  | **Vzorový vstup 2: &emsp;**  |\n",
    "| `80`                         | `9`                          |\n",
    "| **Vzorový výstup 1: &emsp;** | **Vzorový výstup 2: &emsp;** |\n",
    "| `4`                          | `0`                          |\n",
    "\n",
    "<!--# CODE AREA du_4_5 #-->"
   ],
   "cell_type": "markdown",
   "metadata": {}
  },
  {
   "cell_type": "code",
   "execution_count": 25,
   "metadata": {},
   "outputs": [
    {
     "output_type": "stream",
     "name": "stdout",
     "text": [
      "4\n"
     ]
    }
   ],
   "source": [
    "num = int(input())\n",
    "counter = 0\n",
    "while(num % 2 == 0):\n",
    "    num = num // 2\n",
    "    counter += 1\n",
    "print(counter)"
   ]
  },
  {
   "source": [
    "### Testy: \n",
    "<!--# TEST AREA #-->"
   ],
   "cell_type": "markdown",
   "metadata": {}
  },
  {
   "cell_type": "code",
   "execution_count": 27,
   "metadata": {},
   "outputs": [
    {
     "output_type": "stream",
     "name": "stdout",
     "text": [
      "Tests passed :)\n"
     ]
    }
   ],
   "source": [
    "# Tuto buňku neupravujte!  # TEST AREA #\n",
    "import testing\n",
    "testing.run_tests('du_4.ipynb', 'du_4_5')"
   ]
  },
  {
   "cell_type": "code",
   "execution_count": null,
   "metadata": {},
   "outputs": [],
   "source": []
  }
 ],
 "metadata": {
  "title": "C2184 Úvod do programování v Pythonu (podzim 2020)",
  "kernelspec": {
   "name": "Python 3.8.6 64-bit",
   "display_name": "Python 3.8.6 64-bit",
   "metadata": {
    "interpreter": {
     "hash": "aee8b7b246df8f9039afb4144a1f6fd8d2ca17a180786b69acc140d282b71a49"
    }
   }
  },
  "language_info": {
   "codemirror_mode": {
    "name": "ipython",
    "version": 3
   },
   "file_extension": ".py",
   "mimetype": "text/x-python",
   "name": "python",
   "nbconvert_exporter": "python",
   "pygments_lexer": "ipython3",
   "version": "3.8.6-final"
  }
 },
 "nbformat": 4,
 "nbformat_minor": 2
}