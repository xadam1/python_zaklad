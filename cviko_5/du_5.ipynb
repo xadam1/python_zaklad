{
 "cells": [
  {
   "cell_type": "markdown",
   "metadata": {},
   "source": [
    "<style> \n",
    "    code { font-family: Consolas, monospace; font-weight: normal; } \n",
    "    table { width: 100%; }\n",
    "</style>\n",
    "\n",
    "# Povinné domácí úkoly\n",
    "\n",
    "## DÚ 5.1: Popelka\n",
    "\n",
    "### Úkol:\n",
    "\n",
    "Na vstupu získate řádek s přirozenými čísly. Roztřiďte je a vypište lichá zvlášť, sudá zvlášť.\n",
    "\n",
    "|                              |                              |\n",
    "|:-----------------------------|:-----------------------------|\n",
    "| **Vzorový vstup 1: &emsp;**  | **Vzorový vstup 2: &emsp;**  |\n",
    "| `8 11 4 3 7 2 6 13 5 12`     | `9`                          |\n",
    "| **Vzorový výstup 1: &emsp;** | **Vzorový výstup 2: &emsp;** |\n",
    "| `Lichá: 11 3 7 13 5`         | `Lichá: 9`                   |\n",
    "| `Sudá: 8 4 2 6 12`           | `Sudá: `                     |\n",
    "\n",
    "\n",
    "<!--# CODE AREA du_5_1 #-->"
   ]
  },
  {
   "cell_type": "code",
   "execution_count": 25,
   "metadata": {
    "tags": []
   },
   "outputs": [
    {
     "output_type": "stream",
     "name": "stdout",
     "text": [
      "Lichá: \nSudá: "
     ]
    }
   ],
   "source": [
    "numbers = input().split()\n",
    "even_ = []\n",
    "odd_ = []\n",
    "\n",
    "for num in numbers:\n",
    "    num = int(num)\n",
    "    if (num % 2 == 0):\n",
    "        even_.append(num)\n",
    "    else:\n",
    "        odd_.append(num)\n",
    "\n",
    "print(\"Lichá: \", end='')\n",
    "for oddNum in odd_:\n",
    "    print(oddNum, end=' ')\n",
    "\n",
    "print()\n",
    "\n",
    "print(\"Sudá: \", end='')\n",
    "for evenNum in even_:\n",
    "    print(evenNum, end=' ')"
   ]
  },
  {
   "cell_type": "markdown",
   "metadata": {},
   "source": [
    "### Testy: \n",
    "\n",
    "Spusťte následující buňku pro kontrolu řešení. \n",
    "\n",
    "Před spuštěním se ujistěte, že je notebook uložen (v záhlaví VSCode u názvu notebooku se nesmí zobrazovat \\* ani &#8226;).\n",
    "\n",
    "<!--# TEST AREA #-->"
   ]
  },
  {
   "cell_type": "code",
   "execution_count": 69,
   "metadata": {
    "tags": []
   },
   "outputs": [
    {
     "output_type": "stream",
     "name": "stdout",
     "text": [
      "Tests passed :)\n"
     ]
    }
   ],
   "source": [
    "# Tuto buňku neupravujte!  # TEST AREA #\n",
    "import testing\n",
    "testing.run_tests('du_5.ipynb', 'du_5_1')"
   ]
  },
  {
   "source": [
    "## DÚ 5.2: Nejdelší a nejkratší slovo\n",
    "Ze vstupu načtěte slova a vypište nejkratší a nejdelší slovo.\n",
    "\n",
    "#### Vzorový vstup:\n",
    "`pes kočka holub slepice sokol anaconda slon liška`\n",
    "\n",
    "#### Vzorový výstup:\n",
    "```\n",
    "anaconda\n",
    "pes\n",
    "```\n",
    "\n",
    "<!--# CODE AREA du_5_2 #-->"
   ],
   "cell_type": "markdown",
   "metadata": {}
  },
  {
   "cell_type": "code",
   "execution_count": 30,
   "metadata": {},
   "outputs": [
    {
     "output_type": "stream",
     "name": "stdout",
     "text": [
      "new max pes\nnew min pes\nnew max kočka\nnew max slepice\nnew max anaconda\nanaconda\npes\n"
     ]
    }
   ],
   "source": [
    "import math\n",
    "words = input().split()\n",
    "max_ = -math.inf\n",
    "max_word = ''\n",
    "\n",
    "min_ = math.inf\n",
    "min_word = ''\n",
    "\n",
    "for word in words:\n",
    "    if len(word) > max_:\n",
    "        max_word = word\n",
    "        max_ = len(word)\n",
    "    if len(word) < min_:\n",
    "        min_word = word\n",
    "        min_ = len(word)\n",
    "\n",
    "print(max_word)\n",
    "print(min_word)"
   ]
  },
  {
   "source": [
    "### Testy: \n",
    "<!--# TEST AREA #-->"
   ],
   "cell_type": "markdown",
   "metadata": {}
  },
  {
   "cell_type": "code",
   "execution_count": 71,
   "metadata": {},
   "outputs": [
    {
     "output_type": "stream",
     "name": "stdout",
     "text": [
      "Tests passed :)\n"
     ]
    }
   ],
   "source": [
    "# Tuto buňku neupravujte!  # TEST AREA #\n",
    "import testing\n",
    "testing.run_tests('du_5.ipynb', 'du_5_2')"
   ]
  },
  {
   "source": [
    "## DÚ 5.3: Nákupy\n",
    "\n",
    "### Úkol:\n",
    "\n",
    "Napište kód, který ze vstupu načte dva řádky:\n",
    "\n",
    "- ceník zboží (oddělený čárkami a dvojtečkami bez mezer)\n",
    "\n",
    "- obsah nákupního košíku (oddělený čárkami bez mezer)\n",
    "\n",
    "Ceník načtěte a uložte do vhodné kolekce. Poté spočítejte celkovou hodnotu zboží v nákupním košíku a vypište ji na výstup v požadovaném formátu.\n",
    "\n",
    "**Vzorový vstup 1:** \n",
    "\n",
    "```\n",
    "Rohlík:2.20,Banán:5.00,Jogurt:8.90,Sušenky:27.50,Čokoláda:24.00,Mléko:17.90,Spaghetti:21.90\n",
    "Rohlík,Rohlík,Rohlík,Mléko,Čokoláda\n",
    "```                   \n",
    "\n",
    "**Vzorový výstup 1:**\n",
    "\n",
    "`Celková cena: 48.50 Kč`              \n",
    "\n",
    "<!--# CODE AREA du_5_3 #-->"
   ],
   "cell_type": "markdown",
   "metadata": {}
  },
  {
   "cell_type": "code",
   "execution_count": 36,
   "metadata": {},
   "outputs": [
    {
     "output_type": "stream",
     "name": "stdout",
     "text": [
      "Celková cena: 48.50 Kč\n"
     ]
    }
   ],
   "source": [
    "prices = input().split(',')\n",
    "shoppingCart = input().split(',')\n",
    "\n",
    "priceList = {}\n",
    "for entry in prices:\n",
    "    item,price = entry.split(':')\n",
    "    priceList[item] = float(price)\n",
    "\n",
    "totalPrice = 0\n",
    "for item in shoppingCart:\n",
    "    totalPrice += priceList[item]\n",
    "\n",
    "print(f\"Celková cena: {totalPrice:.2f} Kč\")\n"
   ]
  },
  {
   "source": [
    "### Testy: \n",
    "<!--# TEST AREA #-->"
   ],
   "cell_type": "markdown",
   "metadata": {}
  },
  {
   "cell_type": "code",
   "execution_count": 73,
   "metadata": {},
   "outputs": [
    {
     "output_type": "stream",
     "name": "stdout",
     "text": [
      "Tests passed :)\n"
     ]
    }
   ],
   "source": [
    "# Tuto buňku neupravujte!  # TEST AREA #\n",
    "import testing\n",
    "testing.run_tests('du_5.ipynb', 'du_5_3')"
   ]
  },
  {
   "source": [
    "## DÚ 5.4: Oko\n",
    "\n",
    "Ve hře Oko (Blackjack) je cílem získat co největší počet bodů, ne však víc než 21. Přitom karty 2 až 10 mají svou vlastní hodnotu; karty J, Q, K mají hodnotu 10; A má hodnotu 11.\n",
    "\n",
    "Příklady:\n",
    "\n",
    "- Mám-li na ruce karty 3, 5, K, 2, pak mám 3+5+10+2 = 20 bodů. \n",
    "- Mám-li na ruce karty 6, J, A, pak mám 0 bodů, protože 6+10+11 = 27, což je víc než 21.\n",
    "\n",
    "### Úkol:\n",
    "\n",
    "Na vstupu získáte posloupnost karet oddělených čárkami. Spočítejte, za kolik bodů se tyto karty počítají, a výsledek vypište na výstup.\n",
    "\n",
    "|                              |                              |\n",
    "|:-----------------------------|:-----------------------------|\n",
    "| **Vzorový vstup 1: &emsp;**  | **Vzorový vstup 2: &emsp;**  |\n",
    "| `2, 3, 5, K`                 | `6, J, A`                    |\n",
    "| **Vzorový výstup 1: &emsp;** | **Vzorový výstup 2: &emsp;** |\n",
    "| `20`                         | `0`                          |\n",
    "        \n",
    "\n",
    "<!--# CODE AREA du_5_4 #-->"
   ],
   "cell_type": "markdown",
   "metadata": {}
  },
  {
   "cell_type": "code",
   "execution_count": 42,
   "metadata": {},
   "outputs": [
    {
     "output_type": "stream",
     "name": "stdout",
     "text": [
      "20\n"
     ]
    }
   ],
   "source": [
    "cards = input().split(',')\n",
    "\n",
    "total = 0\n",
    "\n",
    "for card in cards:\n",
    "    card = card.strip()\n",
    "    if card == 'J' or card == 'Q' or card == 'K':\n",
    "        total += 10\n",
    "    elif card == 'A':\n",
    "        total += 11\n",
    "    else:\n",
    "        total += int(card)\n",
    "\n",
    "if total > 21:\n",
    "    res = 0\n",
    "else:\n",
    "    res = total\n",
    "print(res)\n"
   ]
  },
  {
   "source": [
    "### Testy: \n",
    "<!--# TEST AREA #-->"
   ],
   "cell_type": "markdown",
   "metadata": {}
  },
  {
   "cell_type": "code",
   "execution_count": 75,
   "metadata": {},
   "outputs": [
    {
     "output_type": "stream",
     "name": "stdout",
     "text": [
      "Tests passed :)\n"
     ]
    }
   ],
   "source": [
    "# Tuto buňku neupravujte!  # TEST AREA #\n",
    "import testing\n",
    "testing.run_tests('du_5.ipynb', 'du_5_4')"
   ]
  },
  {
   "source": [
    "## DÚ 5.5: Hledáme kopie\n",
    "\n",
    "### Úkol:\n",
    "\n",
    "Na vstupu získáte několik slov, z nichž jedno se opakuje. Vypište, které slovo to je a na kterých dvou pozicích se nachází (pozice počítáme od nuly).\n",
    "\n",
    "Hint: Jde to i bez použití funkcí jako `find` nebo `index`. Stačí využít vhodný typ kolekce.\n",
    "\n",
    "**Vzorový vstup 1:** \n",
    "\n",
    "`košík bouda kokos olovo mango kokos užovka karate`\n",
    "\n",
    "**Vzorový výstup 1:**\n",
    "\n",
    "`kokos 2 5`              \n",
    "\n",
    "<!--# CODE AREA du_5_5 #-->"
   ],
   "cell_type": "markdown",
   "metadata": {}
  },
  {
   "cell_type": "code",
   "execution_count": 52,
   "metadata": {},
   "outputs": [
    {
     "output_type": "stream",
     "name": "stdout",
     "text": [
      "kokos 2 5 "
     ]
    }
   ],
   "source": [
    "words = input().split()\n",
    "\n",
    "collection = {}\n",
    "for (index, word) in enumerate(words):\n",
    "    if word in collection:\n",
    "        collection[word].append(index)\n",
    "    else:\n",
    "        collection[word] = [index]\n",
    "\n",
    "for word,indexes in collection.items():\n",
    "    if len(indexes) > 1:\n",
    "        print(word,end=' ')\n",
    "        for ind in indexes:\n",
    "            print(ind, end=' ')\n"
   ]
  },
  {
   "source": [
    "### Testy: \n",
    "<!--# TEST AREA #-->"
   ],
   "cell_type": "markdown",
   "metadata": {}
  },
  {
   "cell_type": "code",
   "execution_count": 77,
   "metadata": {},
   "outputs": [
    {
     "output_type": "stream",
     "name": "stdout",
     "text": [
      "Tests passed :)\n"
     ]
    }
   ],
   "source": [
    "# Tuto buňku neupravujte!  # TEST AREA #\n",
    "import testing\n",
    "testing.run_tests('du_5.ipynb', 'du_5_5')"
   ]
  },
  {
   "source": [
    "## DÚ 5.6: Kombinujeme\n",
    "\n",
    "### Úkol:\n",
    "\n",
    "Ze vstupu načtěte řádek bude obsahující několik celých čísel. Zjistěte, jaké různé součty lze získat sčítáním dvojic z těchto čísel. \n",
    "\n",
    "Příklad: 8 12 1\n",
    "\n",
    "- 8 + 12 = 20\n",
    "\n",
    "- 8 + 1 = 9\n",
    "\n",
    "- 12 + 1 = 13\n",
    "\n",
    "\n",
    "Všechny možné součty vypište na výstup, od nejmenšího po největší. Žádný součet nevypisujte dvakrát, ani pokud ho lze získat více různými kombinacemi. Číslo nemůže tvořit dvojici samo se sebou, ledaže se na vstupu vyskytuje víckrát.\n",
    "\n",
    "|                              |                              |                              |\n",
    "|:-----------------------------|:-----------------------------|:-----------------------------|\n",
    "| **Vzorový vstup 1: &emsp;**  | **Vzorový vstup 2: &emsp;**  | **Vzorový vstup 3: &emsp;**  |\n",
    "| `8 12 1`                     | `1 2 2 5 6 7 8`              | `10 -10 -20 0`               |\n",
    "| **Vzorový výstup 1: &emsp;** | **Vzorový výstup 2: &emsp;** | **Vzorový výstup 3: &emsp;** |\n",
    "| `9 13 20`                    | `3 4 6 7 8 9 10 11 12 13 14 15`    | `-30 -20 -10 0 10`           |\n",
    "        \n",
    "<!--# CODE AREA du_5_6 #-->"
   ],
   "cell_type": "markdown",
   "metadata": {}
  },
  {
   "cell_type": "code",
   "execution_count": 65,
   "metadata": {},
   "outputs": [
    {
     "output_type": "stream",
     "name": "stdout",
     "text": [
      "3 4 6 7 8 9 10 11 12 13 14 15 "
     ]
    }
   ],
   "source": [
    "numbers = input().split()\n",
    "numbers = list(map(int,numbers))\n",
    "\n",
    "res = []\n",
    "for aIndex in range(0,len(numbers)):\n",
    "    for bIndex in range(0,len(numbers)):\n",
    "        if aIndex == bIndex:\n",
    "            continue\n",
    "        res.append(numbers[aIndex]+numbers[bIndex])\n",
    "res = set(res)\n",
    "for a in sorted(res):\n",
    "    print(a,end=' ')\n",
    "\n"
   ]
  },
  {
   "source": [
    "### Testy: \n",
    "<!--# TEST AREA #-->"
   ],
   "cell_type": "markdown",
   "metadata": {}
  },
  {
   "cell_type": "code",
   "execution_count": 79,
   "metadata": {},
   "outputs": [
    {
     "output_type": "stream",
     "name": "stdout",
     "text": [
      "Tests passed :)\n"
     ]
    }
   ],
   "source": [
    "# Tuto buňku neupravujte!  # TEST AREA #\n",
    "import testing\n",
    "testing.run_tests('du_5.ipynb', 'du_5_6')"
   ]
  },
  {
   "cell_type": "code",
   "execution_count": null,
   "metadata": {},
   "outputs": [],
   "source": []
  }
 ],
 "metadata": {
  "title": "C2184 Úvod do programování v Pythonu (podzim 2020)",
  "kernelspec": {
   "name": "Python 3.8.6 64-bit",
   "display_name": "Python 3.8.6 64-bit",
   "metadata": {
    "interpreter": {
     "hash": "aee8b7b246df8f9039afb4144a1f6fd8d2ca17a180786b69acc140d282b71a49"
    }
   }
  },
  "language_info": {
   "codemirror_mode": {
    "name": "ipython",
    "version": 3
   },
   "file_extension": ".py",
   "mimetype": "text/x-python",
   "name": "python",
   "nbconvert_exporter": "python",
   "pygments_lexer": "ipython3",
   "version": "3.8.6-final"
  }
 },
 "nbformat": 4,
 "nbformat_minor": 2
}