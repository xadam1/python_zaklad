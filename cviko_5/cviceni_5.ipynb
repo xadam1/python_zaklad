{
 "cells": [
  {
   "cell_type": "markdown",
   "metadata": {},
   "source": [
    "<style> \n",
    "    code { font-family: Consolas, monospace; font-weight: normal; } \n",
    "    table { width: 100%; }\n",
    "</style>\n",
    "\n",
    "# Nepovinné úkoly\n",
    "\n",
    "## Cvičení 5.1: Převrácené pořadí\n",
    "\n",
    "### Úkol:\n",
    "\n",
    "Napište program, který bude od uživatele načítat řádky textu až do chvíle, kdy uživatel zadá prázdný řádek. Poté program vypíše všechny doposud zadané řádky, ale v opačném pořadí.\n",
    "\n",
    "|                              |                                    |\n",
    "|:-----------------------------|:-----------------------------------|\n",
    "| **Vzorový vstup 1: &emsp;**  | **Vzorový vstup 2: &emsp;**        |\n",
    "| `1`                          | `v případě potřeby je možné`       |\n",
    "| `2`                          | `se seznámit s projektem`          |\n",
    "| `3`                          | `technické podpory a spolupráce`   |\n",
    "|                              | `s rozvojovými zeměmi na podlaze a`|\n",
    "|                              | `zabývali se také podílí`          |\n",
    "|                              | `na předním sedadle`               |\n",
    "|                              | &nbsp;                             |\n",
    "| **Vzorový výstup 1: &emsp;** | **Vzorový výstup 2: &emsp;**       |\n",
    "| `3`                          | `na předním sedadle`               |\n",
    "| `2`                          | `zabývali se také podílí`          |\n",
    "| `1`                          | `s rozvojovými zeměmi na podlaze a`|\n",
    "|                              | `technické podpory a spolupráce`   |\n",
    "|                              | `se seznámit s projektem`          |\n",
    "|                              | `v případě potřeby je možné`       |\n",
    "\n",
    "<!--# CODE AREA cviceni_5_1 #-->"
   ]
  },
  {
   "cell_type": "code",
   "execution_count": null,
   "metadata": {},
   "outputs": [],
   "source": [
    "..."
   ]
  },
  {
   "cell_type": "markdown",
   "metadata": {},
   "source": [
    "### Testy: \n",
    "\n",
    "Spusťte následující buňku pro kontrolu řešení. \n",
    "\n",
    "Před spuštěním se ujistěte, že je notebook uložen (v záhlaví VSCode u názvu notebooku se nesmí zobrazovat \\* ani &#8226;).\n",
    "\n",
    "<!--# TEST AREA #-->"
   ]
  },
  {
   "cell_type": "code",
   "execution_count": null,
   "metadata": {
    "tags": []
   },
   "outputs": [],
   "source": [
    "# Tuto buňku neupravujte!  # TEST AREA #\n",
    "import testing\n",
    "testing.run_tests('cviceni_5.ipynb', 'cviceni_5_1')"
   ]
  },
  {
   "source": [
    "## Cvičení 5.2: Slovník\n",
    "\n",
    "Na vstupu získáte dvojice `klic=hodnota`. Vytvořte z nich slovník a vypište ho na výstup.\n",
    "\n",
    "#### Vzorový vstup:\n",
    "`pondělí=řízek úterý=smažák středa=halušky čtvrtek=guláš pátek=smažák`\n",
    "\n",
    "#### Vzorový výstup:\n",
    "`{'pondělí': 'řízek', 'úterý': 'smažák', 'středa': 'halušky', 'čtvrtek': 'guláš', 'pátek': 'smažák'}`\n",
    "\n",
    "<!--# CODE AREA cviceni_5_2 #-->"
   ],
   "cell_type": "markdown",
   "metadata": {}
  },
  {
   "cell_type": "code",
   "execution_count": null,
   "metadata": {},
   "outputs": [],
   "source": [
    "..."
   ]
  },
  {
   "source": [
    "### Testy: \n",
    "<!--# TEST AREA #-->"
   ],
   "cell_type": "markdown",
   "metadata": {}
  },
  {
   "cell_type": "code",
   "execution_count": null,
   "metadata": {},
   "outputs": [],
   "source": [
    "# Tuto buňku neupravujte!  # TEST AREA #\n",
    "import testing\n",
    "testing.run_tests('cviceni_5.ipynb', 'cviceni_5_2')"
   ]
  },
  {
   "source": [
    "## Cvičení 5.3: Množina písmen\n",
    "\n",
    "### Úkol:\n",
    "\n",
    "Na vstupu získáte jeden řádek textu, který může obsahovat písmena anglické abecedy, číslice a jiné speciální znaky. Vypište na výstup všechna písmena, která se v textu vyskytují, bez ohledu na velikost (`A`/`a`) a počet výskytů. Písmena vypisujte vždy velká, v abecedním pořadí.\n",
    "\n",
    "Hint: ve znakové sadě Unicode jdou písmena anglické abecedy za sebou podle abecedy (nejdřív velká písmena A–Z s ordinálními čísly 65–90, pak malá písmena a–z s čísly 97–122). Porovnávání řetězců funguje na základě ordinálních čísel, např. `'A' < 'B' < 'C' < 'Z' < 'a' < 'b' < 'c' < 'z' < 'ý' < 'ň'` (pro písmena s diakritikou toto hezké uspořádání už bohužel neplatí). Stejný princip používají například i funkce `min`, `max`, `sorted`.\n",
    "\n",
    "|                              |                              |\n",
    "|:-----------------------------|:-----------------------------|\n",
    "| **Vzorový vstup 1: &emsp;**  | **Vzorový vstup 2: &emsp;**  |\n",
    "| `And I meant it!`            | `!@#$%^&*(123)`              |\n",
    "| **Vzorový výstup 1: &emsp;** | **Vzorový výstup 2: &emsp;** |\n",
    "| `ADEIMNT`                    |                              |    \n",
    "\n",
    "<!--# CODE AREA cviceni_5_3 #-->"
   ],
   "cell_type": "markdown",
   "metadata": {}
  },
  {
   "cell_type": "code",
   "execution_count": null,
   "metadata": {},
   "outputs": [],
   "source": [
    "..."
   ]
  },
  {
   "source": [
    "### Testy: \n",
    "<!--# TEST AREA #-->"
   ],
   "cell_type": "markdown",
   "metadata": {}
  },
  {
   "cell_type": "code",
   "execution_count": null,
   "metadata": {},
   "outputs": [],
   "source": [
    "# Tuto buňku neupravujte!  # TEST AREA #\n",
    "import testing\n",
    "testing.run_tests('cviceni_5.ipynb', 'cviceni_5_3')"
   ]
  },
  {
   "source": [
    "## Cvičení 5.4: Čísla, čísla, čísla\n",
    "\n",
    "### Úkol:\n",
    "\n",
    "Na vstupu získáte posloupnost čísel oddělených mezerou. Spočítejte a vypište minimum, maximum, aritmetický průměr a medián.\n",
    "\n",
    "Vypisované hodnoty zarovnejte napravo, viz vzorový výstup (na každém řádku je dohromady 14 znaků).\n",
    "\n",
    "**Vzorový vstup 1: &emsp;** \n",
    "\n",
    "`150 13 7 10 11`\n",
    "\n",
    "**Vzorový výstup 1: &emsp;**\n",
    "\n",
    "```\n",
    "Min:      7.00\n",
    "Max:    150.00\n",
    "Mean:    38.20\n",
    "Median:  11.00\n",
    "```\n",
    "\n",
    "**Vzorový vstup 2: &emsp;** \n",
    "\n",
    "`1 2 3 4 8 9`\n",
    "\n",
    "**Vzorový výstup 2: &emsp;**\n",
    "\n",
    "```\n",
    "Min:      1.00\n",
    "Max:      9.00\n",
    "Mean:     4.50\n",
    "Median:   3.50\n",
    "```\n",
    "\n",
    "<!--# CODE AREA cviceni_5_4 #-->"
   ],
   "cell_type": "markdown",
   "metadata": {}
  },
  {
   "cell_type": "code",
   "execution_count": null,
   "metadata": {
    "tags": []
   },
   "outputs": [],
   "source": [
    "..."
   ]
  },
  {
   "source": [
    "### Testy: \n",
    "<!--# TEST AREA #-->"
   ],
   "cell_type": "markdown",
   "metadata": {}
  },
  {
   "cell_type": "code",
   "execution_count": null,
   "metadata": {},
   "outputs": [],
   "source": [
    "# Tuto buňku neupravujte!  # TEST AREA #\n",
    "import testing\n",
    "testing.run_tests('cviceni_5.ipynb', 'cviceni_5_4')"
   ]
  },
  {
   "source": [
    "## Cvičení 5.5: Pozice maxima\n",
    "\n",
    "Na vstupu získate posloupnost celých čísel oddělených mezerou. Vaším úkolem je nalézt největší číslo a vypsat jeho pozici a hodnotu. Pokud bude více největších čísel, vypište pozici prvního. Při výpisu počítejte pozice od jedničky (ne od nuly).\n",
    "\n",
    "|                                    |                                  |\n",
    "|:-----------------------------------|:---------------------------------|\n",
    "| **Vzorový vstup 1: &emsp;**        | **Vzorový vstup 2: &emsp;**      |\n",
    "| `150 13 7 10 11`                   | `2 3 5 5 1 5`                    |\n",
    "| **Vzorový výstup 1: &emsp;**       | **Vzorový výstup 2: &emsp;**     |\n",
    "| `1: 150`                           | `3: 5`                           |\n",
    "\n",
    "<!--# CODE AREA cviceni_5_5 #-->"
   ],
   "cell_type": "markdown",
   "metadata": {}
  },
  {
   "cell_type": "code",
   "execution_count": null,
   "metadata": {},
   "outputs": [],
   "source": [
    "..."
   ]
  },
  {
   "source": [
    "### Testy: \n",
    "<!--# TEST AREA #-->"
   ],
   "cell_type": "markdown",
   "metadata": {}
  },
  {
   "cell_type": "code",
   "execution_count": null,
   "metadata": {},
   "outputs": [],
   "source": [
    "# Tuto buňku neupravujte!  # TEST AREA #\n",
    "import testing\n",
    "testing.run_tests('cviceni_5.ipynb', 'cviceni_5_5')"
   ]
  }
 ],
 "metadata": {
  "title": "C2184 Úvod do programování v Pythonu (podzim 2020)",
  "kernelspec": {
   "display_name": "Python 3",
   "language": "python",
   "name": "python3"
  },
  "language_info": {
   "codemirror_mode": {
    "name": "ipython",
    "version": 3
   },
   "file_extension": ".py",
   "mimetype": "text/x-python",
   "name": "python",
   "nbconvert_exporter": "python",
   "pygments_lexer": "ipython3",
   "version": "3.8.5-final"
  }
 },
 "nbformat": 4,
 "nbformat_minor": 2
}