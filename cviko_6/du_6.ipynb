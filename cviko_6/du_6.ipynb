{
 "cells": [
  {
   "cell_type": "markdown",
   "metadata": {},
   "source": [
    "<style> \n",
    "    code { font-family: Consolas, monospace; font-weight: normal; } \n",
    "    table { width: 100%; }\n",
    "</style>\n",
    "\n",
    "# Povinné domácí úkoly\n",
    "\n",
    "V úkolech v této sadě je potřeba (narozdíl od předchozích sad) vždy zadefinovat nejakou funkci. Není třeba načítat vstup pomocí funkce `input`, testy budou volat Vaši funkci tak, jak uvádí **vzorové volání**.\n",
    "\n",
    "Pokud je uvedené **vzorové volání** a **vzorový výsledek**, chce se od Vás, aby návratovou hodnotou vzorového volání byl vzorový výsledek.\n",
    "\n",
    "Pokud je uvedené **vzorové volání** a **vzorový výstup**, nemá funkce vracet žádnou návratovou hodnotou, ale má vypisovat vzorový výstup."
   ]
  },
  {
   "source": [
    "## DÚ 6.1: Vzdálenost bodů\n",
    "\n",
    "Mějme dva body v rovině: $A = [a_x, a_y]$, $B = [b_x, b_y]$.\n",
    "\n",
    "Vzdálenost mezi body $A$, $B$ umíme spočítat podle vzorce:\n",
    "\n",
    "$$\\left\\vert AB \\right\\vert = \\sqrt{(a_x-b_x)^2 + (a_y-b_y)^2}$$\n",
    "\n",
    "### Úkol:\n",
    "\n",
    "Napište funkci `distance`, která bere jako parametry souřadnice dvou bodů v rovině (tj. dvě dvojice reálných čísel) a vrací vzdálenost těchto bodů.\n",
    "\n",
    "|                                |                                      |\n",
    "|:-------------------------------|:-------------------------------------|\n",
    "| **Vzorové volání 1: &emsp;**   | **Vzorové volání 2: &emsp;**         |\n",
    "| `distance((1, 1), (5, 4))`     | `distance((-1.5, 3.2), (5.8, 12.6))` |\n",
    "| **Vzorový výsledek 1: &emsp;** | **Vzorový výsledek 2: &emsp;**       |\n",
    "| `5.0`                          | `11.901680553602503`                 |\n",
    "\n",
    "\n",
    "<!--# CODE AREA du_6_1 #-->"
   ],
   "cell_type": "markdown",
   "metadata": {}
  },
  {
   "cell_type": "code",
   "execution_count": null,
   "metadata": {
    "tags": []
   },
   "outputs": [],
   "source": [
    "from typing import Tuple\n",
    "import math\n",
    "\n",
    "def distance(pointA: Tuple[float, float], pointB: Tuple[float, float]) -> float: \n",
    "    return math.sqrt((pointA[0] - pointB[0])**2 + (pointA[1]-pointB[1])**2)"
   ]
  },
  {
   "cell_type": "markdown",
   "metadata": {},
   "source": [
    "### Testy: \n",
    "\n",
    "Spusťte následující buňku pro kontrolu řešení. \n",
    "\n",
    "Před spuštěním se ujistěte, že je notebook uložen (v záhlaví VSCode u názvu notebooku se nesmí zobrazovat \\* ani &#8226;).\n",
    "\n",
    "<!--# TEST AREA #-->"
   ]
  },
  {
   "cell_type": "code",
   "execution_count": 52,
   "metadata": {
    "tags": []
   },
   "outputs": [
    {
     "output_type": "stream",
     "name": "stdout",
     "text": [
      "Tests passed :)\n"
     ]
    }
   ],
   "source": [
    "# Tuto buňku neupravujte!  # TEST AREA #\n",
    "import testing\n",
    "testing.run_tests('du_6.ipynb', 'du_6_1')"
   ]
  },
  {
   "source": [
    "## DÚ 6.2: Fibonacciho posloupnost\n",
    "\n",
    "Fibonacciho posloupnost je nekonečná posloupnost přirozených čísel, která začíná čísly 0, 1, a pak každé další číslo je součtem dvou předchozích:\n",
    "\n",
    "- 0, 1, 1, 2, 3, 5, 8, 13, 21, ...\n",
    "\n",
    "Zobecněná Fibonacciho posloupnost se může začínat libovolnými dvěma čísly a pak každé další je součtem dvou předchozích, například:\n",
    "\n",
    "- 2, 2, 4, 6, 10, 16, 26, 42, ..\n",
    "\n",
    "- 1, 10, 11, 21, 32, 53, 85, ...\n",
    "\n",
    "### Úkol:\n",
    "\n",
    "Napište funkci, která bere jako parametr číslo `n` a vrací seznam prvních `n` prvků Fibonacciho posloupnosti. \n",
    "\n",
    "Funkce může být volána také s nepovinným parametrem `start` (dvojice čísel), který určuje první dva prvky zobecněné Fibonacciho posloupnosti.\n",
    "\n",
    "|                                |                                      |\n",
    "|:-------------------------------|:-------------------------------------|\n",
    "| **Vzorové volání 1: &emsp;**   | **Vzorové volání 2: &emsp;**         |\n",
    "| `fibonacci(8)`                 | `fibonacci(6, start=(2, 2))`         |\n",
    "| **Vzorový výsledek 1: &emsp;** | **Vzorový výsledek 2: &emsp;**       |\n",
    "| `[0, 1, 1, 2, 3, 5, 8, 13]`    | `[2, 2, 4, 6, 10, 16]`               |\n",
    "\n",
    "<!--# CODE AREA du_6_2 #-->"
   ],
   "cell_type": "markdown",
   "metadata": {}
  },
  {
   "cell_type": "code",
   "execution_count": null,
   "metadata": {},
   "outputs": [],
   "source": [
    "from typing import List, Tuple\n",
    "\n",
    "def fibonacci(n: int, start: Tuple[int, int] = (0, 1)) -> List[int]: \n",
    "    res = [start[0], start[1]]\n",
    "    for _ in range(n-2):\n",
    "        res.append(res[-1]+res[-2])\n",
    "    return res\n"
   ]
  },
  {
   "source": [
    "### Testy: \n",
    "<!--# TEST AREA #-->"
   ],
   "cell_type": "markdown",
   "metadata": {}
  },
  {
   "cell_type": "code",
   "execution_count": 51,
   "metadata": {},
   "outputs": [
    {
     "output_type": "stream",
     "name": "stdout",
     "text": [
      "Tests passed :)\n"
     ]
    }
   ],
   "source": [
    "# Tuto buňku neupravujte!  # TEST AREA #\n",
    "import testing\n",
    "testing.run_tests('du_6.ipynb', 'du_6_2')"
   ]
  },
  {
   "source": [
    "## DÚ 6.3: Sněhulák\n",
    "\n",
    "Prasátko Peppa si chce vymodelovat z plastelíny sněhuláka a potřebuje vědet, kolik válečků plastelíny si musí koupit. \n",
    "\n",
    "### Úkol:\n",
    "\n",
    "Napište funkci `clay_pieces_for_snowman`, která bere tři argumenty: \n",
    "\n",
    "- `snowman_diameters` je seznam průměrů jednotlivých koulí sněhuláka (mohou být 3 nebo jiný počet),\n",
    "\n",
    "- `piece_diameter` je průměr válečku plastelíny,\n",
    "\n",
    "- `piece_length` je délka válečku plastelíny.\n",
    "\n",
    "Funkce vrátí počet válečků potřebný ke stavbě sněhuláka. Aby funkce nebyla příliš složitá, zadefinujte si pomocné funkce (např. na výpočet objemu koule, objemu celého sněhuláka, objemu válečku...), které pak můžete volat v hlavní funkci.\n",
    "\n",
    "Nápověda: funkce `math.ceil()` zaokrouhluje nahoru, `math.floor()` zaokrouhluje dolů. Při zápisu vzorců si dejte pozor na rozdíl mezi průměrem a poloměrem.\n",
    "\n",
    "|                                                |                                           |\n",
    "|:-----------------------------------------------|:------------------------------------------|\n",
    "| **Vzorové volání 1: &emsp;**                   | **Vzorové volání 2: &emsp;**              |\n",
    "| `clay_pieces_for_snowman([5, 4, 3], 2.2, 6.0)` | `clay_pieces_for_snowman([3.9, 2], 2, 6)` |\n",
    "| **Vzorový výsledek 1: &emsp;**                 | **Vzorový výsledek 2: &emsp;**            |\n",
    "| `5`                                            | `2`                                       |\n",
    "\n",
    "Pro kontrolu: ve vzorovém volání 1 má vyjít objem koulí zhruba 65.4, 33.5 a 14.1, objem válečku 22.8. Celý sněhulák tedy vyjde na 4.96 válečku, tj. musí si koupit 5.\n",
    "\n",
    "<!--# CODE AREA du_6_3 #-->"
   ],
   "cell_type": "markdown",
   "metadata": {}
  },
  {
   "cell_type": "code",
   "execution_count": null,
   "metadata": {},
   "outputs": [],
   "source": [
    "from typing import List\n",
    "import math\n",
    "\n",
    "def clay_pieces_for_snowman(snowman_diameters: List[float], piece_diameter: float, piece_length: float) -> int:\n",
    "    snowmanVolume = 0\n",
    "    for ballDiameter in snowman_diameters:\n",
    "        snowmanVolume += calcSphereVolume(ballDiameter)\n",
    "    return numberOfCyllindersNeeded(snowmanVolume, calcCylinderVolume(piece_diameter, piece_length))\n",
    "\n",
    "def calcSphereVolume(diameter: float) -> float:\n",
    "    return 4/3 * math.pi * math.pow((diameter/2),3)\n",
    "\n",
    "def calcCylinderVolume(diameter: float, length: float) -> float:\n",
    "    return math.pi * math.pow((diameter/2),2) * length\n",
    "\n",
    "def numberOfCyllindersNeeded(snowmanVolume: float, cylinderVolume: float) -> int:\n",
    "    return math.ceil(snowmanVolume / cylinderVolume)"
   ]
  },
  {
   "source": [
    "### Testy: \n",
    "<!--# TEST AREA #-->"
   ],
   "cell_type": "markdown",
   "metadata": {}
  },
  {
   "cell_type": "code",
   "execution_count": 50,
   "metadata": {},
   "outputs": [
    {
     "output_type": "stream",
     "name": "stdout",
     "text": [
      "Tests passed :)\n"
     ]
    }
   ],
   "source": [
    "# Tuto buňku neupravujte!  # TEST AREA #\n",
    "import testing\n",
    "testing.run_tests('du_6.ipynb', 'du_6_3')"
   ]
  },
  {
   "source": [
    "## DÚ 6.4: Emívulm uktápzop\n",
    "\n",
    "### Úkol:\n",
    "\n",
    "Napište funkci `backwards`, která vezme jako argument větu a vrátí tuto větu s každým slovem pozpátku. Velikost písmen a interpunkci nemusíte řešit (ve větě budou pouze malá písmena a mezery). \n",
    "\n",
    "|                                     |                                           |\n",
    "|:------------------------------------|:------------------------------------------|\n",
    "| **Vzorové volání 1: &emsp;**        | **Vzorové volání 2: &emsp;**              |\n",
    "| `backwards('toto je tajná zpráva')` | `backwards('oktásarp appep ícarv redú')`  |\n",
    "| **Vzorový výsledek 1: &emsp;**      | **Vzorový výsledek 2: &emsp;**            |\n",
    "| `'otot ej ánjat avárpz'`            | `'prasátko peppa vrací úder'`             |    \n",
    "\n",
    "<!--# CODE AREA du_6_4 #-->"
   ],
   "cell_type": "markdown",
   "metadata": {}
  },
  {
   "cell_type": "code",
   "execution_count": null,
   "metadata": {},
   "outputs": [],
   "source": [
    "def backwards(sentence: str) -> str: \n",
    "    words = sentence.split()\n",
    "    result = ''\n",
    "    for word in words:\n",
    "        word = ''.join(reversed(word))\n",
    "        result += word\n",
    "        result += ' '\n",
    "    return result.strip()\n",
    "    "
   ]
  },
  {
   "source": [
    "### Testy: \n",
    "<!--# TEST AREA #-->"
   ],
   "cell_type": "markdown",
   "metadata": {}
  },
  {
   "cell_type": "code",
   "execution_count": 49,
   "metadata": {},
   "outputs": [
    {
     "output_type": "stream",
     "name": "stdout",
     "text": [
      "Tests passed :)\n"
     ]
    }
   ],
   "source": [
    "# Tuto buňku neupravujte!  # TEST AREA #\n",
    "import testing\n",
    "testing.run_tests('du_6.ipynb', 'du_6_4')"
   ]
  },
  {
   "source": [
    "## DÚ 6.5: Výpis slovníku\n",
    "\n",
    "### Úkol:\n",
    "\n",
    "Napište funkci `print_dict`, která bere slovník (parametr `dictionary`) a ten hezky vypíše na výstup v tomto formátu (viz vzorový výstup):\n",
    "\n",
    "- řádek s nadpisem (parametr `title`) a počtem klíčů ve slovníku \n",
    "\n",
    "- řádky s jednotlivými dvojicemi klíč:hodnota, seřazené podle klíčů, odsazené o 4 mezery\n",
    "\n",
    "Dále UPRAVTE HLAVIČKU funkce tak, aby ji bylo možné volat i bez parametru `title` (v takovém případě se místo nadpisu vypíše pouze `dict`).\n",
    "\n",
    "Funkce nemá nic vracet, pouze vypisovat (tj. návratová hodnota je `None`). Klíče a hodnoty mohou být libovolného typu, při jejich výpisu stačí použít defaultní formát.\n",
    "\n",
    "**Vzorové volání 1:** \n",
    "\n",
    "`print_dict({'bob': 10, 'cyril': 6, 'alice': 9}, title='Skóre v Kloboučku Hop')`\n",
    "\n",
    "**Vzorový výstup 1:**\n",
    "\n",
    "```\n",
    "Skóre v Kloboučku Hop [3]:\n",
    "    alice: 9\n",
    "    bob: 10\n",
    "    cyril: 6\n",
    "```\n",
    "\n",
    "**Vzorové volání 2:** \n",
    "\n",
    "`print_dict({1: 1, 3: 9, 5: 25, 2: 4, 4: 16})`\n",
    "\n",
    "**Vzorový výstup 2:**\n",
    "\n",
    "```\n",
    "dict [5]:\n",
    "    1: 1\n",
    "    2: 4\n",
    "    3: 9\n",
    "    4: 16\n",
    "    5: 25\n",
    "```\n",
    "\n",
    "<!--# CODE AREA du_6_5 #-->"
   ],
   "cell_type": "markdown",
   "metadata": {}
  },
  {
   "cell_type": "code",
   "execution_count": 29,
   "metadata": {},
   "outputs": [],
   "source": [
    "def print_dict(dictionary: dict, title='dict') -> None:\n",
    "    print(f'{title} [{len(dictionary)}]:')\n",
    "    space = '    '\n",
    "    for key in sorted(dictionary.keys()):\n",
    "        print(f'{space}{key}: {dictionary[key]}')\n"
   ]
  },
  {
   "source": [
    "### Testy: \n",
    "<!--# TEST AREA #-->"
   ],
   "cell_type": "markdown",
   "metadata": {}
  },
  {
   "cell_type": "code",
   "execution_count": 47,
   "metadata": {},
   "outputs": [
    {
     "output_type": "stream",
     "name": "stdout",
     "text": [
      "Tests passed :)\n"
     ]
    }
   ],
   "source": [
    "# Tuto buňku neupravujte!  # TEST AREA #\n",
    "import testing\n",
    "testing.run_tests('du_6.ipynb', 'du_6_5')"
   ]
  },
  {
   "source": [
    "## DÚ 6.6: Modus\n",
    "\n",
    "*Modus* (anglicky *mode*) je hodnota, která se v daném statistickém souboru vyskytuje nejčastěji. Obecně může mít soubor i víc modů, pokud je v něm víc různých hodnot se stejným počtem výskytů.\n",
    "\n",
    "### Úkol:\n",
    "\n",
    "Napište definici funkce `mode`, která bere seznam a vrací jeho modus. Pokud bude seznam prázdný, vraťte `None`. Pokud bude víc modů, vraťte jeden z nich – je jedno který.\n",
    "\n",
    "\n",
    "**Vzorové volání 1:** \n",
    "\n",
    "`mode([1, 2, 3, 3, 4, 4, 1, 2, 5, 3, 2, 1, 2])`\n",
    "\n",
    "**Vzorový výsledek 1:**\n",
    "\n",
    "`2`\n",
    "\n",
    "**Vzorové volání 2:** \n",
    "\n",
    "`mode(['jablko', 'pomeranč', 'hruška', 'pomeranč', 'jablko', 'jablko', 'hruška'])`\n",
    "\n",
    "**Vzorový výsledek 2:**\n",
    "\n",
    "`'jablko'`\n",
    "\n",
    "<!--# CODE AREA du_6_6 #-->"
   ],
   "cell_type": "markdown",
   "metadata": {}
  },
  {
   "cell_type": "code",
   "execution_count": 42,
   "metadata": {},
   "outputs": [],
   "source": [
    "from typing import List\n",
    "\n",
    "def mode(elements: List[object]) -> object:\n",
    "    return None if len(elements) == 0 else max(set(elements), key=elements.count)"
   ]
  },
  {
   "source": [
    "### Testy: \n",
    "<!--# TEST AREA #-->"
   ],
   "cell_type": "markdown",
   "metadata": {}
  },
  {
   "cell_type": "code",
   "execution_count": 45,
   "metadata": {},
   "outputs": [
    {
     "output_type": "stream",
     "name": "stdout",
     "text": [
      "Tests passed :)\n"
     ]
    }
   ],
   "source": [
    "# Tuto buňku neupravujte!  # TEST AREA #\n",
    "import testing\n",
    "testing.run_tests('du_6.ipynb', 'du_6_6')"
   ]
  },
  {
   "cell_type": "code",
   "execution_count": null,
   "metadata": {},
   "outputs": [],
   "source": []
  }
 ],
 "metadata": {
  "title": "C2184 Úvod do programování v Pythonu (podzim 2020)",
  "kernelspec": {
   "name": "python3",
   "display_name": "Python 3.8.6 64-bit",
   "metadata": {
    "interpreter": {
     "hash": "aee8b7b246df8f9039afb4144a1f6fd8d2ca17a180786b69acc140d282b71a49"
    }
   }
  },
  "language_info": {
   "codemirror_mode": {
    "name": "ipython",
    "version": 3
   },
   "file_extension": ".py",
   "mimetype": "text/x-python",
   "name": "python",
   "nbconvert_exporter": "python",
   "pygments_lexer": "ipython3",
   "version": "3.8.6-final"
  }
 },
 "nbformat": 4,
 "nbformat_minor": 2
}