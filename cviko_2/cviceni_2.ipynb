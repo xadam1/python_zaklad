{
 "cells": [
  {
   "cell_type": "markdown",
   "metadata": {},
   "source": [
    "<style> \n",
    "    code { font-family: Consolas, monospace; font-weight: normal; } \n",
    "    table { width: 100%; }\n",
    "</style>\n",
    "\n",
    "# Nepovinné úkoly\n",
    "\n",
    "## Cvičení 2.1: Obdélník\n",
    "\n",
    "V této ukázce si napíšeme program pro výpočet obvodu a povrchu obdélníku:\n",
    "\n",
    "Obvod $o$ a povrch $S$ obdélníku o stranách $a$, $b$ můžeme spočítat podle vzorců:\n",
    "\n",
    "$$ o = 2a + 2b $$\n",
    "$$ S = ab $$\n",
    "\n",
    "### Úkol:\n",
    "\n",
    "Spočítejte obvod a povrch obdélníku o stranách `a`, `b`. Výsledky uložte do proměnných `o`, `S`. (O vstup a výstup se stará předpřipravený kód.)\n",
    "\n",
    "#### Vzorový vstup:\n",
    "\n",
    "`4 2.5`\n",
    "\n",
    "#### Vzorový výstup:\n",
    "\n",
    "```o: 13.0 S: 10.0```\n",
    "\n",
    "<!--# CODE AREA cviceni_2_1 #-->"
   ]
  },
  {
   "cell_type": "code",
   "execution_count": null,
   "metadata": {
    "tags": []
   },
   "outputs": [],
   "source": [
    "a, b = map(float, input().split())  # vstup\n",
    "\n",
    "o = ...\n",
    "S = ...\n",
    "\n",
    "print('o:', o, 'S:', S)  # výstup"
   ]
  },
  {
   "cell_type": "markdown",
   "metadata": {},
   "source": [
    "### Testy: \n",
    "\n",
    "Spusťte následující buňku pro kontrolu řešení. \n",
    "\n",
    "Před spuštěním se ujistěte, že je notebook uložen (v záhlaví VSCode u názvu notebooku se nesmí zobrazovat \\* ani &#8226;).\n",
    "\n",
    "<!--# TEST AREA #-->"
   ]
  },
  {
   "cell_type": "code",
   "execution_count": null,
   "metadata": {
    "tags": []
   },
   "outputs": [],
   "source": [
    "# Tuto buňku neupravujte!  # TEST AREA #\n",
    "import testing\n",
    "testing.run_tests('cviceni_2.ipynb', 'cviceni_2_1')"
   ]
  },
  {
   "source": [
    "## Cvičení 2.2: Pravoúhlý trojúhelník\n",
    "\n",
    "Mějme pravoúhlý trojúhelník $ABC$ s odvěsnami $a$, $b$ a přeponou $c$. Pro úhel $\\alpha$ platí tyto vztahy:\n",
    "\n",
    "$$ \\sin \\alpha = \\frac{a}{c} \\qquad \\cos \\alpha = \\frac{b}{c} \\qquad \\tan \\alpha = \\frac{a}{b} $$\n",
    "\n",
    "### Úkol:\n",
    "\n",
    "Ze zadaných délek odvěsen `a`, `b` spočítejte velikost úhlu $\\alpha$ ve stupních. Výsledek uložte do proměnné `alpha`. (O vstup a výstup se stará předpřipravený kód.)\n",
    "\n",
    "#### Vzorový vstup:\n",
    "`10 20`\n",
    "\n",
    "#### Vzorový výstup:\n",
    "`26.565`\n",
    "\n",
    "<!--# CODE AREA cviceni_2_2 #-->"
   ],
   "cell_type": "markdown",
   "metadata": {}
  },
  {
   "cell_type": "code",
   "execution_count": null,
   "metadata": {},
   "outputs": [],
   "source": [
    "a, b = map(float, input().split())  # vstup\n",
    "\n",
    "...\n",
    "\n",
    "print(f'{alpha:.3f}')  # výstup (na 3 desetinná místa)"
   ]
  },
  {
   "source": [
    "### Testy: \n",
    "<!--# TEST AREA #-->"
   ],
   "cell_type": "markdown",
   "metadata": {}
  },
  {
   "cell_type": "code",
   "execution_count": null,
   "metadata": {},
   "outputs": [],
   "source": [
    "# Tuto buňku neupravujte!  # TEST AREA #\n",
    "import testing\n",
    "testing.run_tests('cviceni_2.ipynb', 'cviceni_2_2')"
   ]
  },
  {
   "source": [
    "## Cvičení 2.3: Oblíbené číslo\n",
    "\n",
    "Alice, Bob a Cyril si chtějí vybrat společné oblíbené číslo.\n",
    "\n",
    "* Alici se líbí dvouciferná čísla, která obsahují čtyřku.\n",
    "* Bobovi se líbí čísla dělitelná třemi.\n",
    "* Cyrilovi se líbi všechna čísla kromě násobků sedmi. \n",
    "\n",
    "### Úkol:\n",
    "\n",
    "Zjistěte, jestli se zadané přirozené číslo `n` bude líbit všem třem. Výsledek uložte do proměnné `all_like`. (O vstup a výstup se stará předpřipravený kód.) \n",
    "\n",
    "Tip: úkol rozdělte na podúkoly a částečné výsledky si ukládejte do pomocných proměnných (např. `has_2_digits`, `bob_likes`...).\n",
    "\n",
    "|                              |                              |                              |\n",
    "|:-----------------------------|:-----------------------------|:-----------------------------|\n",
    "| **Vzorový vstup 1: &emsp;**  | **Vzorový vstup 2: &emsp;**  | **Vzorový vstup 3: &emsp;**  |\n",
    "| `45`                         | `42`                         | `12`                         |\n",
    "| **Vzorový výstup 1: &emsp;** | **Vzorový výstup 2: &emsp;** | **Vzorový výstup 3: &emsp;** |\n",
    "| `True`                       | `False`                      | `False`                      |\n",
    "\n",
    "<!--# CODE AREA cviceni_2_3 #-->"
   ],
   "cell_type": "markdown",
   "metadata": {}
  },
  {
   "cell_type": "code",
   "execution_count": null,
   "metadata": {},
   "outputs": [],
   "source": [
    "n = int(input())  # vstup\n",
    "\n",
    "...\n",
    "\n",
    "print(all_like)  # výstup"
   ]
  },
  {
   "source": [
    "### Testy: \n",
    "<!--# TEST AREA #-->"
   ],
   "cell_type": "markdown",
   "metadata": {}
  },
  {
   "cell_type": "code",
   "execution_count": null,
   "metadata": {},
   "outputs": [],
   "source": [
    "# Tuto buňku neupravujte!  # TEST AREA #\n",
    "import testing\n",
    "testing.run_tests('cviceni_2.ipynb', 'cviceni_2_3')"
   ]
  }
 ],
 "metadata": {
  "title": "C2184 Úvod do programování v Pythonu (podzim 2020)",
  "kernelspec": {
   "display_name": "Python 3",
   "language": "python",
   "name": "python3"
  },
  "language_info": {
   "codemirror_mode": {
    "name": "ipython",
    "version": 3
   },
   "file_extension": ".py",
   "mimetype": "text/x-python",
   "name": "python",
   "nbconvert_exporter": "python",
   "pygments_lexer": "ipython3",
   "version": "3.8.5-final"
  }
 },
 "nbformat": 4,
 "nbformat_minor": 2
}