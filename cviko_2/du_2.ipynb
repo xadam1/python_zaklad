{
 "cells": [
  {
   "cell_type": "markdown",
   "metadata": {},
   "source": [
    "<style> \n",
    "    code { font-family: Consolas, monospace; font-weight: normal; } \n",
    "    table { width: 100%; }\n",
    "</style>\n",
    "\n",
    "# Povinné domácí úkoly\n",
    "\n",
    "## DÚ 2.1: Obvod trojúhelníku\n",
    "\n",
    "### Úkol:\n",
    "\n",
    "Vypočítejte obvod trojúhelníku se stranami o délkách `a`, `b`, `c`. Výsledek uložte do proměnné `o`.\n",
    "\n",
    "#### Vzorový vstup:\n",
    "`2 3 4`\n",
    "\n",
    "#### Vzorový výstup:\n",
    "`9.0`\n",
    "\n",
    "<!--# CODE AREA du_2_1 #-->"
   ]
  },
  {
   "cell_type": "code",
   "execution_count": 1,
   "metadata": {
    "tags": []
   },
   "outputs": [
    {
     "output_type": "stream",
     "name": "stdout",
     "text": "9.0\n"
    }
   ],
   "source": [
    "a, b, c = map(float, input().split())  # vstup\n",
    "\n",
    "o = a + b + c\n",
    "\n",
    "print(o)  # výstup"
   ]
  },
  {
   "cell_type": "markdown",
   "metadata": {},
   "source": [
    "### Testy: \n",
    "\n",
    "Spusťte následující buňku pro kontrolu řešení. \n",
    "\n",
    "Před spuštěním se ujistěte, že je notebook uložen (v záhlaví VSCode u názvu notebooku se nesmí zobrazovat \\* ani &#8226;).\n",
    "\n",
    "<!--# TEST AREA #-->"
   ]
  },
  {
   "cell_type": "code",
   "execution_count": 44,
   "metadata": {
    "tags": []
   },
   "outputs": [
    {
     "output_type": "stream",
     "name": "stdout",
     "text": "Tests passed :)\n"
    }
   ],
   "source": [
    "# Tuto buňku neupravujte!  # TEST AREA #\n",
    "import testing\n",
    "testing.run_tests('du_2.ipynb', 'du_2_1')"
   ]
  },
  {
   "source": [
    "## DÚ 2.2: Objem kužele\n",
    "\n",
    "### Úkol:\n",
    "\n",
    "Vypočítejte objem kužele s poloměrem podstavy `r` a výškou `v`. Výsledek uložte to proměnné `V`.\n",
    "\n",
    "$$ V = \\frac{1}{3} \\cdot \\pi \\cdot r^2 \\cdot v $$\n",
    "\n",
    "\n",
    "#### Vzorový vstup:\n",
    "`3.5 12.0`\n",
    "\n",
    "#### Vzorový výstup:\n",
    "`153.94`\n",
    "\n",
    "<!--# CODE AREA du_2_2 #-->"
   ],
   "cell_type": "markdown",
   "metadata": {}
  },
  {
   "cell_type": "code",
   "execution_count": 50,
   "metadata": {
    "tags": []
   },
   "outputs": [
    {
     "output_type": "stream",
     "name": "stdout",
     "text": "153.94\n"
    }
   ],
   "source": [
    "r, v = map(float, input().split())  # vstup\n",
    "\n",
    "import math\n",
    "V = (1/3) * v * math.pi * (r**2)\n",
    "\n",
    "print(f'{V:.2f}')  # výstup (na 2 desetinná místa)"
   ]
  },
  {
   "source": [
    "### Testy: \n",
    "<!--# TEST AREA #-->"
   ],
   "cell_type": "markdown",
   "metadata": {}
  },
  {
   "cell_type": "code",
   "execution_count": 51,
   "metadata": {
    "tags": []
   },
   "outputs": [
    {
     "output_type": "stream",
     "name": "stdout",
     "text": "Tests passed :)\n"
    }
   ],
   "source": [
    "# Tuto buňku neupravujte!  # TEST AREA #\n",
    "import testing\n",
    "testing.run_tests('du_2.ipynb', 'du_2_2')"
   ]
  },
  {
   "source": [
    "## DÚ 2.3: Pythagorova věta\n",
    "\n",
    "### Úkol:\n",
    "\n",
    "Vypočítejte délku přepony pravoúhlého trojúhelníka `c` z délek odvěsen `a`, `b` podle Pythagorovy věty:\n",
    "\n",
    "$$ a^2 + b^2 = c^2 $$\n",
    "\n",
    "#### Vzorový vstup:\n",
    "`3.82 3.56`\n",
    "\n",
    "#### Vzorový výstup:\n",
    "`5.22`\n",
    "\n",
    "<!--# CODE AREA du_2_3 #-->"
   ],
   "cell_type": "markdown",
   "metadata": {}
  },
  {
   "cell_type": "code",
   "execution_count": 19,
   "metadata": {
    "tags": []
   },
   "outputs": [
    {
     "output_type": "stream",
     "name": "stdout",
     "text": "5.22\n"
    }
   ],
   "source": [
    "a, b = map(float, input().split())  # vstup\n",
    "\n",
    "import math\n",
    "c = math.sqrt((a**2) + (b**2))\n",
    "\n",
    "print(f'{c:.2f}')  # výstup"
   ]
  },
  {
   "source": [
    "### Testy: \n",
    "<!--# TEST AREA #-->"
   ],
   "cell_type": "markdown",
   "metadata": {}
  },
  {
   "cell_type": "code",
   "execution_count": 47,
   "metadata": {
    "tags": []
   },
   "outputs": [
    {
     "output_type": "stream",
     "name": "stdout",
     "text": "Tests passed :)\n"
    }
   ],
   "source": [
    "# Tuto buňku neupravujte!  # TEST AREA #\n",
    "import testing\n",
    "testing.run_tests('du_2.ipynb', 'du_2_3')"
   ]
  },
  {
   "source": [
    "## DÚ 2.4: Přepočet času\n",
    "\n",
    "### Úkol:\n",
    "\n",
    "Čas `t` (v sekundách) vyjádřete jako počet celých hodin, minut a sekund. Výsledek uložte do proměnných `hours`, `minutes`, `seconds`. (O hezký výpis se postará předpřipravený poslední řádek.)\n",
    "\n",
    "|                              |                              |\n",
    "|:-----------------------------|:-----------------------------|\n",
    "| **Vzorový vstup 1: &emsp;**  | **Vzorový vstup 2: &emsp;**  |\n",
    "| `90`                         | `3600`                       |\n",
    "| **Vzorový výstup 1: &emsp;** | **Vzorový výstup 2: &emsp;** |\n",
    "| `0:01:30`                    | `1:00:00`                    |\n",
    "\n",
    "<!--# CODE AREA du_2_4 #-->"
   ],
   "cell_type": "markdown",
   "metadata": {}
  },
  {
   "cell_type": "code",
   "execution_count": 25,
   "metadata": {
    "tags": []
   },
   "outputs": [
    {
     "output_type": "stream",
     "name": "stdout",
     "text": "1:01:30\n"
    }
   ],
   "source": [
    "t = int(input())  # vstup\n",
    "\n",
    "hours = t // 3600\n",
    "t = t - hours*3600\n",
    "\n",
    "minutes = t // 60\n",
    "t = t - minutes*60\n",
    "\n",
    "seconds = t\n",
    "\n",
    "print(f'{hours}:{minutes:02}:{seconds:02}')  # výstup"
   ]
  },
  {
   "source": [
    "### Testy: \n",
    "<!--# TEST AREA #-->"
   ],
   "cell_type": "markdown",
   "metadata": {}
  },
  {
   "cell_type": "code",
   "execution_count": 48,
   "metadata": {
    "tags": []
   },
   "outputs": [
    {
     "output_type": "stream",
     "name": "stdout",
     "text": "Tests passed :)\n"
    }
   ],
   "source": [
    "# Tuto buňku neupravujte!  # TEST AREA #\n",
    "import testing\n",
    "testing.run_tests('du_2.ipynb', 'du_2_4')"
   ]
  },
  {
   "source": [
    "## DÚ 2.5: Různá čísla?\n",
    "\n",
    "### Úkol:\n",
    "\n",
    "V proměnných `x`, `y`, `z` máme uložena 3 reálná čísla. Rozhodněte zda každé z těchto čísel je jiné a výsledek (logickou hodnotu) uložte do proměnné `are_distinct`.\n",
    "\n",
    "|                              |                              |\n",
    "|:-----------------------------|:-----------------------------|\n",
    "| **Vzorový vstup 1: &emsp;**  | **Vzorový vstup 2: &emsp;**  |\n",
    "| `15.0 3.14 3e14`             | `0.5 -9.5 0.500`             |\n",
    "| **Vzorový výstup 1: &emsp;** | **Vzorový výstup 2: &emsp;** |\n",
    "| `True`                       | `False`                      |\n",
    "\n",
    "<!--# CODE AREA du_2_5 #-->"
   ],
   "cell_type": "markdown",
   "metadata": {}
  },
  {
   "cell_type": "code",
   "execution_count": 30,
   "metadata": {
    "tags": []
   },
   "outputs": [
    {
     "output_type": "stream",
     "name": "stdout",
     "text": "False\n"
    }
   ],
   "source": [
    "x, y, z = map(float, input().split())  # vstup\n",
    "\n",
    "are_distinct = (x != y and x != z and y != z)\n",
    "\n",
    "print(are_distinct)  # výstup"
   ]
  },
  {
   "source": [
    "### Testy: \n",
    "<!--# TEST AREA #-->"
   ],
   "cell_type": "markdown",
   "metadata": {}
  },
  {
   "cell_type": "code",
   "execution_count": 49,
   "metadata": {
    "tags": []
   },
   "outputs": [
    {
     "output_type": "stream",
     "name": "stdout",
     "text": "Tests passed :)\n"
    }
   ],
   "source": [
    "# Tuto buňku neupravujte!  # TEST AREA #\n",
    "import testing\n",
    "testing.run_tests('du_2.ipynb', 'du_2_5')"
   ]
  },
  {
   "cell_type": "code",
   "execution_count": null,
   "metadata": {},
   "outputs": [],
   "source": []
  }
 ],
 "metadata": {
  "title": "C2184 Úvod do programování v Pythonu (podzim 2020)",
  "kernelspec": {
   "display_name": "Python 3.8.2 64-bit",
   "language": "python",
   "name": "python_defaultSpec_1602694931220"
  },
  "language_info": {
   "codemirror_mode": {
    "name": "ipython",
    "version": 3
   },
   "file_extension": ".py",
   "mimetype": "text/x-python",
   "name": "python",
   "nbconvert_exporter": "python",
   "pygments_lexer": "ipython3",
   "version": "3.8.2-final"
  }
 },
 "nbformat": 4,
 "nbformat_minor": 2
}